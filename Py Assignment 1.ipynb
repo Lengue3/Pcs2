{
 "cells": [
  {
   "cell_type": "markdown",
   "metadata": {},
   "source": [
    "#Basic data types 5"
   ]
  },
  {
   "cell_type": "code",
   "execution_count": null,
   "metadata": {},
   "outputs": [],
   "source": [
    "#1,List comprehensions\n",
    "if __name__ == '__main__':\n",
    "    x = int(input())\n",
    "    y = int(input())\n",
    "    z = int(input())\n",
    "    n = int(input())\n",
    "    solution = [[i,j,k] for i in range(0,x+1) for j in range(0,y+1) for k in range(0,z+1)if (i+j+k)!=n]\n",
    "    print(solution)"
   ]
  },
  {
   "cell_type": "code",
   "execution_count": null,
   "metadata": {},
   "outputs": [],
   "source": [
    "#find the runner-up score\n",
    "if __name__ == '__main__':\n",
    "    n = int(input())\n",
    "    arr = list(map(int, input().split()))\n",
    "    first = max(arr)\n",
    "    n_first = arr.count(first)\n",
    "    \n",
    "    for i in range(n_first):\n",
    "        arr.remove(first)\n",
    "    print(max(arr))"
   ]
  },
  {
   "cell_type": "code",
   "execution_count": null,
   "metadata": {},
   "outputs": [],
   "source": [
    "#Nested lists\n",
    "if __name__ == '__main__':\n",
    "    nm_list = []\n",
    "    votes = []\n",
    "    for _ in range(int(input())):\n",
    "        name = input()\n",
    "        score = float(input())\n",
    "        nm_list.append([name,score])\n",
    "        votes.append(score)\n",
    "    votes.sort()\n",
    "    results=[]\n",
    "    for i in nm_list:\n",
    "        if i[1]==votes[1]:\n",
    "            results.append(i[0])\n",
    "        else: \n",
    "            continue\n",
    "    results.sort()\n",
    "    for n in results:\n",
    "        print(n)\n",
    "    #the expected input in Tests 2-3 are reversed in respect to the other ones,my code returns the correct names but not in the expected order. I decided to left it like this since i consider the order of the names to be irrelevant to the problem and i was incapable to write a code that satisfies all tests.\n"
   ]
  },
  {
   "cell_type": "code",
   "execution_count": null,
   "metadata": {},
   "outputs": [],
   "source": [
    "#find the average\n",
    "if __name__ == '__main__':\n",
    "    n = int(input())\n",
    "    student_marks = {}\n",
    "    for _ in range(n):\n",
    "        name, *line = input().split()\n",
    "        scores = list(map(float, line))\n",
    "        student_marks[name] = scores\n",
    "    query_name = input()\n",
    "    marks = student_marks[query_name]\n",
    "    mark_counter= 0\n",
    "    s = 0\n",
    "    for i in marks:\n",
    "        mark_counter = mark_counter + 1\n",
    "    dividendo= mark_counter\n",
    "    mark_counter = mark_counter - 1\n",
    "    while mark_counter !=0:\n",
    "        s = s + marks[mark_counter]\n",
    "        mark_counter= mark_counter - 1\n",
    "    s = s + marks[0]\n",
    "    average= s/dividendo\n",
    "    print(\"%.2f\" % average)\n"
   ]
  },
  {
   "cell_type": "code",
   "execution_count": null,
   "metadata": {},
   "outputs": [],
   "source": [
    "#Lists\n",
    "if __name__ == '__main__':\n",
    "    N = int(input())\n",
    "    lista=[]\n",
    "    for i in range(0,N):\n",
    "        comand=input().split()\n",
    "        if comand[0] == \"insert\":\n",
    "            lista.insert(int(comand[1]),int(comand[2]))\n",
    "        elif comand[0] == \"append\":\n",
    "            lista.append(int(comand[1]))\n",
    "        elif comand[0] == \"pop\":\n",
    "            lista.pop()\n",
    "        elif comand[0] == \"print\":\n",
    "            print(lista)\n",
    "        elif comand[0] == \"remove\":\n",
    "            lista.remove(int(comand[1]))\n",
    "        elif comand[0] == \"sort\":\n",
    "            lista.sort()\n",
    "        else:\n",
    "            lista.reverse()"
   ]
  },
  {
   "cell_type": "code",
   "execution_count": null,
   "metadata": {},
   "outputs": [],
   "source": [
    "#tuples\n",
    "if __name__ == '__main__':\n",
    "    n = int(input())\n",
    "    integer_list = map(int, input().split())\n",
    "    t_integer=tuple(integer_list)\n",
    "    print(hash(t_integer))\n",
    "    #for some reason this problem seems to only work in Pypy3"
   ]
  },
  {
   "cell_type": "markdown",
   "metadata": {},
   "source": [
    "Strings 4"
   ]
  },
  {
   "cell_type": "code",
   "execution_count": null,
   "metadata": {},
   "outputs": [],
   "source": [
    "#String Split and Join\n",
    "def split_and_join(line):\n",
    "    # write your code here\n",
    "    line = line.split()\n",
    "    line = \"-\".join(line)\n",
    "    return line\n",
    "    \n",
    "if __name__ == '__main__':\n",
    "    line = input()\n",
    "    result = split_and_join(line)\n",
    "    print(result)"
   ]
  },
  {
   "cell_type": "code",
   "execution_count": null,
   "metadata": {},
   "outputs": [],
   "source": [
    "#Print your full name\n",
    "def print_full_name(first, last):\n",
    "    print(\"Hello \"+first,last+\"! You just delved into python.\" )\n",
    "    # Write your code here\n",
    "\n",
    "if __name__ == '__main__':\n",
    "    first_name = input()\n",
    "    last_name = input()\n",
    "    print_full_name(first_name, last_name)"
   ]
  },
  {
   "cell_type": "code",
   "execution_count": null,
   "metadata": {},
   "outputs": [],
   "source": [
    "#Mutations\n",
    "def mutate_string(string, position, character):\n",
    "    l=list(string)\n",
    "    l[position]= character\n",
    "    string = \"\".join(l)\n",
    "    return string\n",
    "\n",
    "if __name__ == '__main__':\n",
    "    s = input()\n",
    "    i, c = input().split()\n",
    "    s_new = mutate_string(s, int(i), c)\n",
    "    print(s_new)"
   ]
  },
  {
   "cell_type": "code",
   "execution_count": null,
   "metadata": {},
   "outputs": [],
   "source": [
    "#introductions to sets\n",
    "def average(array):\n",
    "    set_distinct_heights = set(array)\n",
    "    l_distinct_heights = list(set_distinct_heights)\n",
    "    s_distinct_heights = 0\n",
    "    for i in l_distinct_heights:\n",
    "        s_distinct_heights = s_distinct_heights + i\n",
    "    average = s_distinct_heights/len(l_distinct_heights)\n",
    "    def_average = round(average,3)\n",
    "        \n",
    "    return def_average\n",
    "        \n",
    "        \n",
    "    # your code goes here\n",
    "\n",
    "if __name__ == '__main__':\n",
    "    n = int(input())\n",
    "    arr = list(map(int, input().split()))\n",
    "    result = average(arr)\n",
    "    print(result)"
   ]
  },
  {
   "cell_type": "markdown",
   "metadata": {},
   "source": [
    "Sets 4"
   ]
  },
  {
   "cell_type": "code",
   "execution_count": null,
   "metadata": {},
   "outputs": [],
   "source": [
    "#Symmetric Difference\n",
    "# Enter your code here. Read input from STDIN. Print output to STDOUT\n",
    "M=int(input())\n",
    "m=(input())\n",
    "N=int(input())\n",
    "n=(input())\n",
    "m_split=m.split()\n",
    "n_split=n.split()\n",
    "m_list=list(map(int,m_split))\n",
    "n_list=list(map(int,n_split))\n",
    "m_set=set()\n",
    "n_set=set()\n",
    "m_set=set(m_list)\n",
    "n_set=set(n_list)\n",
    "m_dif=m_set.difference(n_set)\n",
    "n_dif=n_set.difference(m_set)\n",
    "results = m_dif.union(n_dif)\n",
    "results_l=list(results)\n",
    "results_l.sort()\n",
    "for i in results_l:\n",
    "    print(i)"
   ]
  },
  {
   "cell_type": "code",
   "execution_count": null,
   "metadata": {},
   "outputs": [],
   "source": [
    "#set.add()\n",
    "N=int(input())\n",
    "stamps=set()\n",
    "for i in range(N):\n",
    "    stamps.add(input())\n",
    "print(len(stamps))"
   ]
  },
  {
   "cell_type": "code",
   "execution_count": null,
   "metadata": {},
   "outputs": [],
   "source": [
    "#set.discard(),.remove()&.pop()\n",
    "\n",
    "n = int(input())\n",
    "s = set(map(int, input().split()))\n",
    "n_cmd=int(input())\n",
    "for i in range(n_cmd):\n",
    "    cmd=input().split()\n",
    "    if cmd[0]== \"pop\":\n",
    "        s.pop()\n",
    "    elif cmd[0]== \"remove\":\n",
    "        s.remove(int(cmd[1]))\n",
    "    else:\n",
    "        s.discard(int(cmd[1]))\n",
    "set_list=list(s)\n",
    "suma=0\n",
    "for num in s:\n",
    "    num=int(num)\n",
    "    suma = suma+num\n",
    "print(suma)\n"
   ]
  },
  {
   "cell_type": "code",
   "execution_count": null,
   "metadata": {},
   "outputs": [],
   "source": [
    "#set.symmetric_difference()Operation\n",
    "\n",
    "# Enter your code here. Read input from STDIN. Print output to STDOUT\n",
    "english_n=int(input())\n",
    "english_id=map(int,input().split())\n",
    "french_n=int(input())\n",
    "french_id=map(int,input().split())\n",
    "english_set=set(english_id)\n",
    "french_set=set(french_id)\n",
    "e_only= english_set.symmetric_difference(french_set)\n",
    "f_only= french_set.symmetric_difference(english_set)\n",
    "e_only.union(f_only)\n",
    "l_count=list(e_only)\n",
    "print(len(l_count))\n"
   ]
  },
  {
   "cell_type": "markdown",
   "metadata": {},
   "source": [
    "Math 4"
   ]
  },
  {
   "cell_type": "code",
   "execution_count": null,
   "metadata": {},
   "outputs": [],
   "source": [
    "#Polar coordinates\n",
    "import cmath\n",
    "z = complex(input())\n",
    "print(abs(z))\n",
    "print(cmath.phase(z))"
   ]
  },
  {
   "cell_type": "code",
   "execution_count": null,
   "metadata": {},
   "outputs": [],
   "source": [
    "#Integers come in all sizes\n",
    "a = int(input())\n",
    "b=int(input())\n",
    "c=int(input())\n",
    "d=int(input())\n",
    "print(a**b+c**d)"
   ]
  },
  {
   "cell_type": "code",
   "execution_count": null,
   "metadata": {},
   "outputs": [],
   "source": [
    "#Power-Mod Power\n",
    "a=int(input())\n",
    "b=int(input())\n",
    "m=int(input())\n",
    "print(pow(a,b))\n",
    "print(pow(a,b,m))"
   ]
  },
  {
   "cell_type": "code",
   "execution_count": null,
   "metadata": {},
   "outputs": [],
   "source": [
    "#Mod Divmod\n",
    "a=int(input())\n",
    "b=int(input())\n",
    "print(a//b)\n",
    "print(a%b)\n",
    "print(divmod(a,b))"
   ]
  },
  {
   "cell_type": "markdown",
   "metadata": {},
   "source": [
    "IterTools 4"
   ]
  },
  {
   "cell_type": "code",
   "execution_count": null,
   "metadata": {},
   "outputs": [],
   "source": [
    "#itertools.product()\n",
    "# Enter your code here. Read input from STDIN. Print output to STDOUT\n",
    "from itertools import product\n",
    "a = (input().split())\n",
    "b = (input().split())\n",
    "A =[]\n",
    "B=[]\n",
    "for a1 in a:\n",
    "    a1=int(a1)\n",
    "    A.append(a1)\n",
    "for b1 in b:\n",
    "    b1 = int(b1)\n",
    "    B.append(b1)\n",
    "pd = list(product(A,B))\n",
    "\n",
    "for p in pd:\n",
    "    print(p, end=\" \")\n",
    "\n"
   ]
  },
  {
   "cell_type": "code",
   "execution_count": null,
   "metadata": {},
   "outputs": [],
   "source": [
    "#Itertools.permutation()\n",
    "\n",
    "\n",
    "from itertools import permutations\n",
    "intp = (input().split())\n",
    "perm = list(permutations(intp[0],int(intp[1])))\n",
    "result= [''.join(p)for p in perm ]\n",
    "result.sort()\n",
    "print('\\n'.join(result))"
   ]
  },
  {
   "cell_type": "code",
   "execution_count": null,
   "metadata": {},
   "outputs": [],
   "source": [
    "#itertools.combination()\n",
    "# Enter your code here. Read input from STDIN. Print output to STDOUT\n",
    "from itertools import combinations\n",
    "intp= input().split()\n",
    "s = list(intp[0])\n",
    "k= int(intp[1])\n",
    "s.sort()\n",
    "for k1 in range(1,k+1):\n",
    "    [print(''.join(i)) for i in list(combinations(s, k1))]\n"
   ]
  },
  {
   "cell_type": "code",
   "execution_count": null,
   "metadata": {},
   "outputs": [],
   "source": [
    "#itertools.combinations_with_replacement()\n",
    "from itertools import combinations_with_replacement\n",
    "intp=input().split()\n",
    "s = list(intp[0])\n",
    "s.sort()\n",
    "k = int(intp[1])\n",
    "c_r=list(combinations_with_replacement(s,k))\n",
    "result = [''.join(c)for c in c_r]\n",
    "print('\\n'.join(result))\n"
   ]
  },
  {
   "cell_type": "markdown",
   "metadata": {},
   "source": [
    "Collections 4"
   ]
  },
  {
   "cell_type": "code",
   "execution_count": null,
   "metadata": {},
   "outputs": [],
   "source": [
    "#collections.counter()\n",
    "\n",
    "from collections import Counter\n",
    "n=input()\n",
    "shoe_size=input().split()\n",
    "n_buyers=int(input())\n",
    "buyers=[]\n",
    "for i in range(n_buyers):\n",
    "    buyers.append(input().split())\n",
    "shoe_size=Counter(shoe_size)\n",
    "money=0\n",
    "for i in buyers:\n",
    "    if i[0] in shoe_size.keys() and shoe_size[i[0]] != 0:\n",
    "        money+=int(i[1])\n",
    "        shoe_size[i[0]]-=1\n",
    "print(money)     "
   ]
  },
  {
   "cell_type": "code",
   "execution_count": null,
   "metadata": {},
   "outputs": [],
   "source": [
    "#DefaultDict Tutorial\n",
    "from collections import defaultdict\n",
    "a,b=map(int,input().split())\n",
    "d=defaultdict(list)\n",
    "for i in range(1,a+1):\n",
    "    d[input()].append(i)\n",
    "for i in range(1,b+1):\n",
    "    keys=input()\n",
    "    if len(d[keys])>0:\n",
    "        print(\" \".join(str(s) for s in d[keys]))\n",
    "    else:\n",
    "        print(-1)\n",
    "\n"
   ]
  },
  {
   "cell_type": "code",
   "execution_count": null,
   "metadata": {},
   "outputs": [],
   "source": [
    "#Collections.namedtuple()\n",
    "from collections import namedtuple\n",
    "n = int(input())\n",
    "columns = input().split()\n",
    "sum_marks = 0\n",
    "for x in range(n):\n",
    "    students = namedtuple('student', columns)\n",
    "    MARKS, CLASS, NAME, ID = input().split()\n",
    "    student = students(MARKS, CLASS, NAME, ID)\n",
    "    sum_marks += int(student.MARKS)\n",
    "print('{:.2f}'.format(sum_marks / n))"
   ]
  },
  {
   "cell_type": "code",
   "execution_count": null,
   "metadata": {},
   "outputs": [],
   "source": [
    "#Collections.OrderedDict()\n",
    "from collections import OrderedDict\n",
    "N =int(input())\n",
    "ordered_dictionary = OrderedDict()\n",
    "for x in range(N):\n",
    "    item, space, price = input().rpartition(' ')\n",
    "    ordered_dictionary[item] = ordered_dictionary.get(item, 0) + int(price)\n",
    "for item, price in ordered_dictionary.items():\n",
    "    print(item, price)\n"
   ]
  }
 ],
 "metadata": {
  "kernelspec": {
   "display_name": "Python 3.10.7 64-bit",
   "language": "python",
   "name": "python3"
  },
  "language_info": {
   "name": "python",
   "version": "3.10.7"
  },
  "orig_nbformat": 4,
  "vscode": {
   "interpreter": {
    "hash": "be3e3e6aee14e42620e5008e3e9fa23d1b764783a87a6f38e2445f887853eae7"
   }
  }
 },
 "nbformat": 4,
 "nbformat_minor": 2
}
