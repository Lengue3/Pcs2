{
 "cells": [
  {
   "cell_type": "markdown",
   "metadata": {},
   "source": [
    "Problem\n",
    "A string is simply an ordered collection of symbols selected from some alphabet and formed into a word; the length of a string is the number of symbols that it contains.\n",
    "\n",
    "An example of a length 21 DNA string (whose alphabet contains the symbols 'A', 'C', 'G', and 'T') is \"ATGCTTCAGAAAGGTCTTACG.\"\n",
    "\n",
    "Given: A DNA string s of length at most 1000 nt.\n",
    "\n",
    "Return: Four integers (separated by spaces) counting the respective number of times that the symbols 'A', 'C', 'G', and 'T' occur in s.\n",
    "\n",
    "Sample Dataset\n",
    "AGCTTTTCATTCTGACTGCAACGGGCAATATGTCTCTGTGTGGATTAAAAAAAGAGTGTCTGATAGCAGC\n",
    "Sample Output\n",
    "20 12 17 21"
   ]
  },
  {
   "cell_type": "code",
   "execution_count": null,
   "metadata": {},
   "outputs": [],
   "source": [
    "text_file = open(\"rosalind_dna.txt\", \"r\")\n",
    " \n",
    "\n",
    "data = text_file.read()\n",
    " \n",
    "\n",
    "text_file.close()\n",
    "A_c = 0\n",
    "C_c = 0\n",
    "G_c = 0\n",
    "T_c = 0\n",
    "\n",
    "for i in data:\n",
    "    if i == \"A\":\n",
    "        A_c += 1\n",
    "    elif i == \"C\":\n",
    "        C_c += 1\n",
    "    elif i == \"G\":\n",
    "        G_c += 1\n",
    "    elif i == \"T\":\n",
    "        T_c += 1\n",
    "print(A_c,C_c,G_c,T_c)\n"
   ]
  },
  {
   "cell_type": "markdown",
   "metadata": {},
   "source": [
    "Problem\n",
    "An RNA string is a string formed from the alphabet containing 'A', 'C', 'G', and 'U'.\n",
    "\n",
    "Given a DNA string t corresponding to a coding strand, its transcribed RNA string u is formed by replacing all occurrences of 'T' in t with 'U' in u.\n",
    "\n",
    "Given: A DNA string t having length at most 1000 nt.\n",
    "\n",
    "Return: The transcribed RNA string of t.\n",
    "\n",
    "Sample Dataset\n",
    "GATGGAACTTGACTACGTAAATT\n",
    "Sample Output\n",
    "GAUGGAACUUGACUACGUAAAUU"
   ]
  },
  {
   "cell_type": "code",
   "execution_count": null,
   "metadata": {},
   "outputs": [],
   "source": [
    "\n",
    "text_file = open(\"rosalind_rna.txt\", \"r\")\n",
    " \n",
    "\n",
    "data = text_file.read()\n",
    " \n",
    "\n",
    "text_file.close()\n",
    "\n",
    "\n",
    "result = \"\"\n",
    "\n",
    "for i in data:\n",
    "    if i ==\"T\":\n",
    "        i = \"U\"\n",
    "    result += i\n",
    "\n",
    "\n",
    "print(result)\n",
    "\n"
   ]
  },
  {
   "cell_type": "markdown",
   "metadata": {},
   "source": [
    "Problem\n",
    "In DNA strings, symbols 'A' and 'T' are complements of each other, as are 'C' and 'G'.\n",
    "\n",
    "The reverse complement of a DNA string s is the string sc formed by reversing the symbols of s, then taking the complement of each symbol (e.g., the reverse complement of \"GTCA\" is \"TGAC\").\n",
    "\n",
    "Given: A DNA string s of length at most 1000 bp.\n",
    "\n",
    "Return: The reverse complement sc of s.\n",
    "\n",
    "Sample Dataset\n",
    "AAAACCCGGT\n",
    "Sample Output\n",
    "ACCGGGTTTT"
   ]
  },
  {
   "cell_type": "code",
   "execution_count": 4,
   "metadata": {},
   "outputs": [
    {
     "name": "stdout",
     "output_type": "stream",
     "text": [
      "\n",
      "CTTACGTTGTCATTAAGGTTAAAACTTCTTTGCACTAAAAACCTTGCTGATCGATGATGACCTTCCCTTGAATCATATGATACTCCGGCAAATAACCACAACCACTCCCGCGCGGAGATAGTATTTACAGCATTTTGCTGTAGCTGAAGCGGTGTGGCAAATTGTATCAAAGCGCCTTAACCGTCCATTACTAACTGAGGTTATTCATCGTCCGCCTCCCGGCACGCCATGCGGACCCAGATACGTGTAAGGCTGCTCTTTTTTTACTCCTCGGAGATACAGTAATCCGCGCTAGTAGAAGTAAGCTACAACCAGAGTGGTGAACTACCCACCTGCTAATTCGACACATCAGTAGATTTGGGAGTGAGTACGTTGAATGACCCAGCAAGGGTGGGGCGGCCGTCAATCCGGATGTCAAAACTCTAGCTCAGCAGTTATTCGCGCCGTTTGCCAGATTTTCACAGGCGCAGGAGCCTGTTCGTAAGGCGTCGTCAAATAGATTATCACTCGACGAATCATTTTGTACGCCACAGAATGCCCTTGACCTTTGCGGATGCCGAAATCACTCTACATGTAAGAGAGTTAAATGACCGCCTAAGGTGCACTCCCAAATATGAGCCAGGCGTAGGCTGATTTTCAATATGTAAAATCAACCTGTATCCACAGGACCTTTGCTCTATCGTTAAGCCGTGATTCACCGAATGGAGGACCAACTCCCAACGAGGCCATAATGAAGTTCGACGGATCCCGTCCTCCGGGGCAAGCACGAGCAATAATTGAGCTACGTCCGGCGTGGTCATTGTTGGCGCTTTTGGATGCTATCCTGCTGACGAATCGTTTGGTAAAAAAGAATTTAGCCGTATATTGACCTGATGAGCTCGCGATAACCGGAGAGCCCTGCTTCGGCCCTACGGCATCGTTGGTACCTGCG\n"
     ]
    }
   ],
   "source": [
    "\n",
    "text_file = open(\"rosalind_revc.txt\", \"r\")\n",
    " \n",
    "\n",
    "data = text_file.read()\n",
    " \n",
    "\n",
    "text_file.close()\n",
    "\n",
    "\n",
    "def revert_string(string):\n",
    "    r_string = \"\".join(reversed(string))\n",
    "    return r_string\n",
    "r_string = revert_string(data)\n",
    "result = \"\"\n",
    "for i in r_string:\n",
    "    if i == \"A\":\n",
    "        i = \"T\"\n",
    "    elif i == \"T\":\n",
    "        i = \"A\"\n",
    "    elif i == \"C\":\n",
    "        i = \"G\"\n",
    "    elif i == \"G\":\n",
    "        i = \"C\"\n",
    "    result += i\n",
    "\n",
    "print(result)"
   ]
  },
  {
   "cell_type": "markdown",
   "metadata": {},
   "source": [
    "Given: Three positive integers k, m, and n, representing a population containing k+m+n organisms: k individuals are homozygous dominant for a factor, m are heterozygous, and n are homozygous recessive.\n",
    "\n",
    "Return: The probability that two randomly selected mating organisms will produce an individual possessing a dominant allele (and thus displaying the dominant phenotype). Assume that any two organisms can mate."
   ]
  },
  {
   "cell_type": "code",
   "execution_count": 20,
   "metadata": {},
   "outputs": [
    {
     "name": "stdout",
     "output_type": "stream",
     "text": [
      "0.7159959758551309\n"
     ]
    }
   ],
   "source": [
    "\n",
    "k = 22\n",
    "m = 22\n",
    "n = 27\n",
    "\n",
    "tot = k+m+n\n",
    "#calculate all possible recessive pairs\n",
    "\n",
    "n_n = (n/tot)*((n-1)/(tot-1))\n",
    "m_m = (m/tot)*((m-1)/(tot-1))\n",
    "n_m = ((n/tot)*(m/(tot-1)))+(m/tot*(n/(tot-1)))\n",
    "\n",
    "p_RR = n_n + m_m*1/4 + n_m*1/2\n",
    "\n",
    "result = 1-p_RR\n",
    "print(result)\n",
    "\n",
    "\n",
    "\n"
   ]
  },
  {
   "cell_type": "markdown",
   "metadata": {},
   "source": [
    "Problem\n",
    "The GC-content of a DNA string is given by the percentage of symbols in the string that are 'C' or 'G'. For example, the GC-content of \"AGCTATAG\" is 37.5%. Note that the reverse complement of any DNA string has the same GC-content.\n",
    "\n",
    "DNA strings must be labeled when they are consolidated into a database. A commonly used method of string labeling is called FASTA format. In this format, the string is introduced by a line that begins with '>', followed by some labeling information. Subsequent lines contain the string itself; the first line to begin with '>' indicates the label of the next string.\n",
    "\n",
    "In Rosalind's implementation, a string in FASTA format will be labeled by the ID \"Rosalind_xxxx\", where \"xxxx\" denotes a four-digit code between 0000 and 9999.\n",
    "\n",
    "Given: At most 10 DNA strings in FASTA format (of length at most 1 kbp each).\n",
    "\n",
    "Return: The ID of the string having the highest GC-content, followed by the GC-content of that string. Rosalind allows for a default error of 0.001 in all decimal answers unless otherwise stated; please see the note on absolute error below."
   ]
  },
  {
   "cell_type": "code",
   "execution_count": 6,
   "metadata": {},
   "outputs": [
    {
     "name": "stdout",
     "output_type": "stream",
     "text": [
      "Rosalind_7399\n",
      "52.50918\n"
     ]
    }
   ],
   "source": [
    "\n",
    "\n",
    "def readFile(filePath):\n",
    "    with open(filePath,'r') as f:\n",
    "        return [l.strip() for l in f.readlines()]\n",
    "\n",
    "def gc_content(seq):\n",
    "    return round(((seq.count('C') + seq.count('G')) / len(seq) * 100), 6)\n",
    "        \n",
    "FASTAFile = readFile(\"rosalind_gc.txt\")\n",
    "FASTADict = {}\n",
    "FASTALabel = \"\"\n",
    "for line in FASTAFile:\n",
    "    if '>' in line:\n",
    "        FASTALabel = line\n",
    "        FASTADict[FASTALabel] = \"\"\n",
    "    else:\n",
    "        FASTADict[FASTALabel] += line\n",
    "\n",
    "ResultDict = {key: gc_content(value) for (key,value) in FASTADict.items()}\n",
    "MaxGCKey = max(ResultDict, key = ResultDict.get)\n",
    "print(f\"{MaxGCKey[1:]}\\n{ResultDict[MaxGCKey]}\")"
   ]
  },
  {
   "cell_type": "markdown",
   "metadata": {},
   "source": [
    "Problem\n",
    "Given two strings s and t, t is a substring of s if t is contained as a contiguous collection of symbols in s (as a result, t must be no longer than s).\n",
    "\n",
    "The position of a symbol in a string is the total number of symbols found to its left, including itself (e.g., the positions of all occurrences of 'U' in \"AUGCUUCAGAAAGGUCUUACG\" are 2, 5, 6, 15, 17, and 18). The symbol at position i of s is denoted by s[i].\n",
    "\n",
    "A substring of s can be represented as s[j:k], where j and k represent the starting and ending positions of the substring in s; for example, if s = \"AUGCUUCAGAAAGGUCUUACG\", then s[2:5] = \"UGCU\".\n",
    "\n",
    "The location of a substring s[j:k] is its beginning position j; note that t will have multiple locations in s if it occurs more than once as a substring of s (see the Sample below).\n",
    "\n",
    "Given: Two DNA strings s and t (each of length at most 1 kbp).\n",
    "\n",
    "Return: All locations of t as a substring of s."
   ]
  },
  {
   "cell_type": "code",
   "execution_count": 9,
   "metadata": {},
   "outputs": [
    {
     "name": "stdout",
     "output_type": "stream",
     "text": [
      "[91, 98, 111, 159, 199, 247, 254, 403, 410, 435, 469, 495, 578, 585, 641, 648, 671, 721, 728, 772]\n"
     ]
    }
   ],
   "source": [
    "file = open(\"rosalind_subs.txt\",\"r\")\n",
    "data = file.read()\n",
    "file.close()\n",
    "data2=data.split('\\n')\n",
    "s = str(data2[0])\n",
    "t = str(data2[1])\n",
    "\n",
    "positions = []\n",
    "pos = 0\n",
    "for i in s:\n",
    "    pos += 1\n",
    "    w = 1\n",
    "    strg = \"\"\n",
    "    if i == t[0]:\n",
    "        strg += i\n",
    "        while w < len(t):\n",
    "            try:\n",
    "                strg += s[(pos+w)-1]\n",
    "                w += 1\n",
    "            except:\n",
    "                break\n",
    "    if strg == t:\n",
    "        positions.append(pos)\n",
    "print(positions)"
   ]
  },
  {
   "cell_type": "markdown",
   "metadata": {},
   "source": [
    "Mendel's Second Lawclick to expand\n",
    "Problem\n",
    "\n",
    "Figure 2. The probability of each outcome for the sum of the values on two rolled dice (black and white), broken down depending on the number of pips showing on each die. You can verify that 18 of the 36 equally probable possibilities result in an odd sum.\n",
    "Two events A and B are independent if Pr(A and B) is equal to Pr(A)×Pr(B). In other words, the events do not influence each other, so that we may simply calculate each of the individual probabilities separately and then multiply.\n",
    "\n",
    "More generally, random variables X and Y are independent if whenever A and B are respective events for X and Y, A and B are independent (i.e., Pr(A and B)=Pr(A)×Pr(B)).\n",
    "\n",
    "As an example of how helpful independence can be for calculating probabilities, let X and Y represent the numbers showing on two six-sided dice. Intuitively, the number of pips showing on one die should not affect the number showing on the other die. If we want to find the probability that X+Y is odd, then we don't need to draw a tree diagram and consider all possibilities. We simply first note that for X+Y to be odd, either X is even and Y is odd or X is odd and Y is even. In terms of probability, Pr(X+Y is odd)=Pr(X is even and Y is odd)+Pr(X is odd and Y is even). Using independence, this becomes [Pr(X is even)×Pr(Y is odd)]+[Pr(X is odd)×Pr(Y is even)], or (12)2+(12)2=12. You can verify this result in Figure 2, which shows all 36 outcomes for rolling two dice.\n",
    "\n",
    "Given: Two positive integers k (k≤7) and N (N≤2k). In this problem, we begin with Tom, who in the 0th generation has genotype Aa Bb. Tom has two children in the 1st generation, each of whom has two children, and so on. Each organism always mates with an organism having genotype Aa Bb.\n",
    "\n",
    "Return: The probability that at least N Aa Bb organisms will belong to the k-th generation of Tom's family tree (don't count the Aa Bb mates at each level). Assume that Mendel's second law holds for the factors."
   ]
  },
  {
   "cell_type": "code",
   "execution_count": 6,
   "metadata": {},
   "outputs": [
    {
     "name": "stdout",
     "output_type": "stream",
     "text": [
      "0.722\n"
     ]
    }
   ],
   "source": [
    "import math\n",
    "file = open(\"rosalind_lia.txt\", \"r\")\n",
    "data = file.read()\n",
    "file.close()\n",
    "data1 = data.split()\n",
    "k = int(data1[0])\n",
    "N = int(data1[1])\n",
    "\n",
    "# A and B are independent, and their probability of being heterozygous is 1/2. So P(A and B) = P(A) x P(B) = 1/4\n",
    "P = 0.25\n",
    "Q = 0.75\n",
    "n = 2 ** k\n",
    "x = N\n",
    "prob = 0\n",
    "#Bernoulli random variable\n",
    "for i in range(x):\n",
    "    sm = ((math.factorial(n))/(math.factorial(i)*(math.factorial(n-i))))*((0.25**i)*(0.75**(n-i)))\n",
    "    prob += sm\n",
    "res = 1-prob\n",
    "result = round(res,3)\n",
    "print(result)\n"
   ]
  },
  {
   "cell_type": "markdown",
   "metadata": {},
   "source": [
    "Problem\n",
    "For a random variable X taking integer values between 1 and n, the expected value of X is E(X)=∑nk=1k×Pr(X=k). The expected value offers us a way of taking the long-term average of a random variable over a large number of trials.\n",
    "\n",
    "As a motivating example, let X be the number on a six-sided die. Over a large number of rolls, we should expect to obtain an average of 3.5 on the die (even though it's not possible to roll a 3.5). The formula for expected value confirms that E(X)=∑6k=1k×Pr(X=k)=3.5.\n",
    "\n",
    "More generally, a random variable for which every one of a number of equally spaced outcomes has the same probability is called a uniform random variable (in the die example, this \"equal spacing\" is equal to 1). We can generalize our die example to find that if X is a uniform random variable with minimum possible value a and maximum possible value b, then E(X)=a+b2. You may also wish to verify that for the dice example, if Y is the random variable associated with the outcome of a second die roll, then E(X+Y)=7.\n",
    "\n",
    "Given: Six nonnegative integers, each of which does not exceed 20,000. The integers correspond to the number of couples in a population possessing each genotype pairing for a given factor. In order, the six given integers represent the number of couples having the following genotypes:\n",
    "\n",
    "AA-AA\n",
    "AA-Aa\n",
    "AA-aa\n",
    "Aa-Aa\n",
    "Aa-aa\n",
    "aa-aa\n",
    "Return: The expected number of offspring displaying the dominant phenotype in the next generation, under the assumption that every couple has exactly two offspring."
   ]
  },
  {
   "cell_type": "code",
   "execution_count": 14,
   "metadata": {},
   "outputs": [
    {
     "name": "stdout",
     "output_type": "stream",
     "text": [
      "153965.5\n"
     ]
    }
   ],
   "source": [
    "file = open(\"rosalind_iev (1).txt\",\"r\")\n",
    "data = file.read()\n",
    "file.close()\n",
    "data1 = data.split()\n",
    "\n",
    "AA_AA = int(data1[0])\n",
    "AA_Aa = int(data1[1])\n",
    "AA_aa = int(data1[2])\n",
    "Aa_Aa = int(data1[3])\n",
    "Aa_aa = int(data1[4])\n",
    "sure_dom = AA_AA + AA_Aa + AA_aa\n",
    "#p(AA_AA) = 1, p(AA_Aa) = 1, p(AA_aa) = 1, p(Aa_Aa) = 3/4,p(Aa_aa) = 2/4 p(aa_aa) = 0 (probabilities that the offspring has at least 1 A)\n",
    "Expected = sure_dom*(2*1) + Aa_Aa*(2*0.75)+ Aa_aa*(2*0.5)\n",
    "print(Expected)\n"
   ]
  },
  {
   "cell_type": "markdown",
   "metadata": {},
   "source": [
    "Problem\n",
    "A matrix is a rectangular table of values divided into rows and columns. An m×n matrix has m rows and n columns. Given a matrix A, we write Ai,j to indicate the value found at the intersection of row i and column j.\n",
    "\n",
    "Say that we have a collection of DNA strings, all having the same length n. Their profile matrix is a 4×n matrix P in which P1,j represents the number of times that 'A' occurs in the jth position of one of the strings, P2,j represents the number of times that C occurs in the jth position, and so on (see below).\n",
    "\n",
    "A consensus string c is a string of length n formed from our collection by taking the most common symbol at each position; the jth symbol of c therefore corresponds to the symbol having the maximum value in the j-th column of the profile matrix. Of course, there may be more than one most common symbol, leading to multiple possible consensus strings."
   ]
  },
  {
   "cell_type": "code",
   "execution_count": null,
   "metadata": {},
   "outputs": [],
   "source": [
    "file = open(\"rosalind_cons.txt\",\"r\")\n",
    "data = file.read()\n",
    "file.close()\n",
    "data1 = data.split(\"\\n\")\n",
    "seq = []\n",
    "seq2 = ''\n",
    "for i in data1:\n",
    "    if '>' in i:\n",
    "        try:\n",
    "            if seq2 != '':\n",
    "                seq.append(seq2)\n",
    "                seq2 = ''\n",
    "        except:\n",
    "            continue\n",
    "    else:\n",
    "        seq2 += i\n",
    "n = len(seq[0])\n",
    "n_matrix = {\n",
    "    'A': [0]*n,\n",
    "    'C': [0]*n,\n",
    "    'G': [0]*n,\n",
    "    'T': [0]*n\n",
    "}\n",
    "result = []\n",
    "for dna in seq:\n",
    "    for position,nucleotide in enumerate(dna):\n",
    "        n_matrix[nucleotide][position] += 1\n",
    "for position in range(n):\n",
    "    mx_count = 0\n",
    "    mx_nucleotide = None\n",
    "    for nucleotide in ['A','C','G','T']:\n",
    "        count = n_matrix[nucleotide][position]\n",
    "        if count > mx_count:\n",
    "            mx_count = count\n",
    "            mx_nucleotide = nucleotide\n",
    "    result.append(mx_nucleotide)\n",
    "consensus = ''.join(result)\n",
    "\n",
    "list_file = open(\"output.txt\",\"w\")\n",
    "list_file.write(f'{consensus}  \\n  {n_matrix}')\n",
    "list_file.close()\n",
    "print(consensus)\n",
    "print(n_matrix)\n"
   ]
  },
  {
   "cell_type": "markdown",
   "metadata": {},
   "source": [
    "Problem\n",
    "\n",
    "Figure 1. The graph of the common logarithm function of x. For a given x-value, the corresponding y-value is the exponent to which we must raise 10 to obtain x. Note that x-values between 0 and 1 get mapped to y-values between -infinity and 0.\n",
    "An array is a structure containing an ordered collection of objects (numbers, strings, other arrays, etc.). We let A[k] denote the k-th value in array A. You may like to think of an array as simply a matrix having only one row.\n",
    "\n",
    "A random string is constructed so that the probability of choosing each subsequent symbol is based on a fixed underlying symbol frequency.\n",
    "\n",
    "GC-content offers us natural symbol frequencies for constructing random DNA strings. If the GC-content is x, then we set the symbol frequencies of C and G equal to x2 and the symbol frequencies of A and T equal to 1−x2. For example, if the GC-content is 40%, then as we construct the string, the next symbol is 'G'/'C' with probability 0.2, and the next symbol is 'A'/'T' with probability 0.3.\n",
    "\n",
    "In practice, many probabilities wind up being very small. In order to work with small probabilities, we may plug them into a function that \"blows them up\" for the sake of comparison. Specifically, the common logarithm of x (defined for x>0 and denoted log10(x)) is the exponent to which we must raise 10 to obtain x.\n",
    "\n",
    "See Figure 1 for a graph of the common logarithm function y=log10(x). In this graph, we can see that the logarithm of x-values between 0 and 1 always winds up mapping to y-values between −∞ and 0: x-values near 0 have logarithms close to −∞, and x-values close to 1 have logarithms close to 0. Thus, we will select the common logarithm as our function to \"blow up\" small probability values for comparison.\n",
    "\n",
    "Given: A DNA string s of length at most 100 bp and an array A containing at most 20 numbers between 0 and 1.\n",
    "\n",
    "Return: An array B having the same length as A in which B[k] represents the common logarithm of the probability that a random string constructed with the GC-content found in A[k] will match s exactly."
   ]
  },
  {
   "cell_type": "code",
   "execution_count": null,
   "metadata": {},
   "outputs": [],
   "source": [
    "import math\n",
    "file = open('rosalind_prob.txt','r')\n",
    "data = file.read()\n",
    "file.close()\n",
    "data1 = data.split('\\n')\n",
    "s = str(data1[0])\n",
    "array =data1[1].split(' ')\n",
    "probabilities = 0\n",
    "res = []\n",
    "for i in array:\n",
    "    i = float(i)\n",
    "    probabilities = 0\n",
    "    character_chances = {\n",
    "        'A':(1-i)/2,\n",
    "        'T':(1-i)/2,\n",
    "        'C':i/2,\n",
    "        'G':i/2\n",
    "    }\n",
    "    for c in s:\n",
    "        probabilities += math.log10(character_chances[c])\n",
    "\n",
    "    res.append(probabilities)\n",
    "result = ' '.join([str(x) for x in res])\n",
    "hand_in = open('output.txt','w')\n",
    "hand_in.write(result)\n",
    "hand_in.close()"
   ]
  }
 ],
 "metadata": {
  "kernelspec": {
   "display_name": "Python 3.10.7 64-bit",
   "language": "python",
   "name": "python3"
  },
  "language_info": {
   "codemirror_mode": {
    "name": "ipython",
    "version": 3
   },
   "file_extension": ".py",
   "mimetype": "text/x-python",
   "name": "python",
   "nbconvert_exporter": "python",
   "pygments_lexer": "ipython3",
   "version": "3.10.7"
  },
  "orig_nbformat": 4,
  "vscode": {
   "interpreter": {
    "hash": "be3e3e6aee14e42620e5008e3e9fa23d1b764783a87a6f38e2445f887853eae7"
   }
  }
 },
 "nbformat": 4,
 "nbformat_minor": 2
}
