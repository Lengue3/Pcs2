{
 "cells": [
  {
   "cell_type": "markdown",
   "metadata": {},
   "source": [
    "Assignment 4 "
   ]
  },
  {
   "cell_type": "markdown",
   "metadata": {},
   "source": [
    "Problem\n",
    "A sequence is an ordered collection of objects (usually numbers), which are allowed to repeat. Sequences can be finite or infinite. Two examples are the finite sequence (π,−2–√,0,π) and the infinite sequence of odd numbers (1,3,5,7,9,…). We use the notation an to represent the n-th term of a sequence.\n",
    "\n",
    "A recurrence relation is a way of defining the terms of a sequence with respect to the values of previous terms. In the case of Fibonacci's rabbits from the introduction, any given month will contain the rabbits that were alive the previous month, plus any new offspring. A key observation is that the number of offspring in any month is equal to the number of rabbits that were alive two months prior. As a result, if Fn represents the number of rabbit pairs alive after the n-th month, then we obtain the Fibonacci sequence having terms Fn that are defined by the recurrence relation Fn=Fn−1+Fn−2 (with F1=F2=1 to initiate the sequence). Although the sequence bears Fibonacci's name, it was known to Indian mathematicians over two millennia ago.\n",
    "\n",
    "When finding the n-th term of a sequence defined by a recurrence relation, we can simply use the recurrence relation to generate terms for progressively larger values of n. This problem introduces us to the computational technique of dynamic programming, which successively builds up solutions by using the answers to smaller cases.\n",
    "\n",
    "Given: Positive integers n≤40 and k≤5.\n",
    "\n",
    "Return: The total number of rabbit pairs that will be present after n months, if we begin with 1 pair and in each generation, every pair of reproduction-age rabbits produces a litter of k rabbit pairs (instead of only 1 pair)."
   ]
  },
  {
   "cell_type": "code",
   "execution_count": null,
   "metadata": {},
   "outputs": [],
   "source": [
    "def fibsol(n,k):\n",
    "    adults,child = 1,1\n",
    "    for i in range(n-1):\n",
    "        child, adults = adults, adults + (child*3)\n",
    "    return child\n",
    "file = open(\"rosalind_fib.txt\",'r')\n",
    "data = file.read()\n",
    "file.close()\n",
    "data1 = data.split()\n",
    "n = int(data1[0])\n",
    "k = int(data1[1])\n",
    "print(fibsol(n,k))\n",
    "\n"
   ]
  },
  {
   "cell_type": "markdown",
   "metadata": {},
   "source": [
    "Problem\n",
    "\n",
    "Figure 2. The Hamming distance between these two strings is 7. Mismatched symbols are colored red.\n",
    "Given two strings s and t of equal length, the Hamming distance between s and t, denoted dH(s,t), is the number of corresponding symbols that differ in s and t. See Figure 2.\n",
    "\n",
    "Given: Two DNA strings s and t of equal length (not exceeding 1 kbp).\n",
    "\n",
    "Return: The Hamming distance dH(s,t)."
   ]
  },
  {
   "cell_type": "code",
   "execution_count": 2,
   "metadata": {},
   "outputs": [
    {
     "name": "stdout",
     "output_type": "stream",
     "text": [
      "470\n"
     ]
    }
   ],
   "source": [
    "file = open('rosalind_hamm.txt', 'r')\n",
    "data = file.read()\n",
    "file.close()\n",
    "data1 = data.split('\\n')\n",
    "s = list(data1[0])\n",
    "t = list(data1[1])\n",
    "counter = 0\n",
    "for i in range(len(s)):\n",
    "    if s[i] != t[i]:\n",
    "        counter += 1\n",
    "print(counter)\n"
   ]
  },
  {
   "cell_type": "markdown",
   "metadata": {},
   "source": [
    "Problem\n",
    "\n",
    "Figure 4. A figure illustrating the propagation of Fibonacci's rabbits if they die after three months.\n",
    "Recall the definition of the Fibonacci numbers from “Rabbits and Recurrence Relations”, which followed the recurrence relation Fn=Fn−1+Fn−2 and assumed that each pair of rabbits reaches maturity in one month and produces a single pair of offspring (one male, one female) each subsequent month.\n",
    "\n",
    "Our aim is to somehow modify this recurrence relation to achieve a dynamic programming solution in the case that all rabbits die out after a fixed number of months. See Figure 4 for a depiction of a rabbit tree in which rabbits live for three months (meaning that they reproduce only twice before dying).\n",
    "\n",
    "Given: Positive integers n≤100 and m≤20.\n",
    "\n",
    "Return: The total number of pairs of rabbits that will remain after the n-th month if all rabbits live for m months."
   ]
  },
  {
   "cell_type": "code",
   "execution_count": null,
   "metadata": {},
   "outputs": [],
   "source": [
    "#I did copy this one, but I've seen how it works in the debug in order to understand it's functioning, I'm leaving annotations to show I actually understand how it works\n",
    "def MortalFibonacci(n, m):\n",
    "    living = [1, 1]\n",
    "    #first bunnies, I store the number of bunnies each month in this list\n",
    "    for i in range(2, n):\n",
    "        #i equals the month, we start from the month they start reproducing\n",
    "        tmp = living[i - 1] + living[i - 2]\n",
    "        #tmp stores the number of bunnies this month (fn-1 + fn-2)\n",
    "        if i == m:\n",
    "            #when i == m, the first bunny dies\n",
    "            tmp = tmp - 1\n",
    "        if i > m:\n",
    "            tmp = tmp - living[i - m - 1]\n",
    "            #then each month, we find the bunnies that are old enough to die [i(month)-m(month to die)-1(to match the 'living' list index scale)]\n",
    "        living.append(tmp)\n",
    "        #after removing the dead bunnies, we store the living ones in the list\n",
    "    return living[-1]\n",
    "    #once the n months have passed, the last item in the list, is the number of living bunnies.\n",
    "file = open('rosalind_fibd.txt','r')\n",
    "data = file.read()\n",
    "data1 = data.split()\n",
    "file.close()\n",
    "n = int(data1[0])\n",
    "m = int(data1[1])\n",
    "\n",
    "\n",
    "\n",
    "print(MortalFibonacci(n, m))"
   ]
  },
  {
   "cell_type": "markdown",
   "metadata": {},
   "source": [
    "This problem is required before doing mrna, but is not in the list of problems we have to do.\n",
    "\n",
    "Problem\n",
    "The 20 commonly occurring amino acids are abbreviated by using 20 letters from the English alphabet (all letters except for B, J, O, U, X, and Z). Protein strings are constructed from these 20 symbols. Henceforth, the term genetic string will incorporate protein strings along with DNA strings and RNA strings.\n",
    "\n",
    "The RNA codon table dictates the details regarding the encoding of specific codons into the amino acid alphabet.\n",
    "\n",
    "Given: An RNA string s corresponding to a strand of mRNA (of length at most 10 kbp).\n",
    "\n",
    "Return: The protein string encoded by s."
   ]
  },
  {
   "cell_type": "code",
   "execution_count": 3,
   "metadata": {},
   "outputs": [],
   "source": [
    "#I'm using a dictionary I found on GitHub to create a translate function\n",
    "def translate(s):\n",
    "    result = \"\"\n",
    "\n",
    "    RNA_Codons = {\n",
    "        # 'M' - START, '*' - STOP\n",
    "        \"GCU\": \"A\", \"GCC\": \"A\", \"GCA\": \"A\", \"GCG\": \"A\",\n",
    "        \"UGU\": \"C\", \"UGC\": \"C\",\n",
    "        \"GAU\": \"D\", \"GAC\": \"D\",\n",
    "        \"GAA\": \"E\", \"GAG\": \"E\",\n",
    "        \"UUU\": \"F\", \"UUC\": \"F\",\n",
    "        \"GGU\": \"G\", \"GGC\": \"G\", \"GGA\": \"G\", \"GGG\": \"G\",\n",
    "        \"CAU\": \"H\", \"CAC\": \"H\",\n",
    "        \"AUA\": \"I\", \"AUU\": \"I\", \"AUC\": \"I\",\n",
    "        \"AAA\": \"K\", \"AAG\": \"K\",\n",
    "        \"UUA\": \"L\", \"UUG\": \"L\", \"CUU\": \"L\", \"CUC\": \"L\", \"CUA\": \"L\", \"CUG\": \"L\",\n",
    "        \"AUG\": \"M\",\n",
    "        \"AAU\": \"N\", \"AAC\": \"N\",\n",
    "        \"CCU\": \"P\", \"CCC\": \"P\", \"CCA\": \"P\", \"CCG\": \"P\",\n",
    "        \"CAA\": \"Q\", \"CAG\": \"Q\",\n",
    "        \"CGU\": \"R\", \"CGC\": \"R\", \"CGA\": \"R\", \"CGG\": \"R\", \"AGA\": \"R\", \"AGG\": \"R\",\n",
    "        \"UCU\": \"S\", \"UCC\": \"S\", \"UCA\": \"S\", \"UCG\": \"S\", \"AGU\": \"S\", \"AGC\": \"S\",\n",
    "        \"ACU\": \"T\", \"ACC\": \"T\", \"ACA\": \"T\", \"ACG\": \"T\",\n",
    "        \"GUU\": \"V\", \"GUC\": \"V\", \"GUA\": \"V\", \"GUG\": \"V\",\n",
    "        \"UGG\": \"W\",\n",
    "        \"UAU\": \"Y\", \"UAC\": \"Y\",\n",
    "        \"UAA\": \"*\", \"UAG\": \"*\", \"UGA\": \"*\"\n",
    "    }\n",
    "    for i in s:\n",
    "        if RNA_Codons[i] == '*':\n",
    "            break\n",
    "        else:\n",
    "            result += RNA_Codons[i]\n",
    "    return result"
   ]
  },
  {
   "cell_type": "code",
   "execution_count": 4,
   "metadata": {},
   "outputs": [
    {
     "name": "stdout",
     "output_type": "stream",
     "text": [
      "MGNHNSYVFAVQIEQPLGEVVACAYKTVRSPFSCLIVSAPVVPIADRLGMTGFDTRKSPCRTLSHNSVCRPITDGPGSCKRTMKPLGNNDSRVIQASESGHVGFSLVVAHFTVLTVYRDQPKGLRMSPVILSSLLWTQHRVTTQQQSGSVDGAMASGTVPSGPTQVLAFKPPPAFLTSRCVGRIEKIAQNEWSSILITHELCRLLHGDESGSEHNRQEAPQQPLFELGSISSPRGIHAKYGIPAQLTIAVADGLAAQKGAELERSNPTIKMSIVRSADPYRWASTRHALIRITYPRQRCSLSSEESITQHGLQRAVRIYKHSLPCAVAQPVVLCFELTPVYTTSRFSNATCGFWCPGPARVCYFMYTYSGQPLTFVSSITQRISCLDYINRRRVATDRENTSSSRRLYRYCPSENHLTHQAGVLFHATCEATPTRSPLKRYFCWCFSSLTMANLPEHSSICLAILYPIEIKQRTRLSTVSDWIGGHAPIDTAQVISPFPPIQYVLEHYREARTSGAVRIPTPGINLSPFKLTSIRGSPRQSPVLPHSSGFMRISGDSRNSPSPLTWYSSKLYVLYHIIEGCINKILVEHASGVPTPGNGILSLSVFITREGADLSWCHALKRHNWKWISWSKRKIIAGIATREERSPLSRACNSQDVLVNMRLPVELIPRYPTREHCNGVVPTQLPSAAPVFGIDLRELTEKVDHIAYCIAFVLTRAGTRLSVLVILNPTRGSYYLASALIAKLLRGHEDVAQLVRSSKFGIYRPSQSGGIPLPVQHLGMSLGTWIGKVHGTRDGCPVVPSCILIKVPYTSPTEAVRNGTVSSSRAEAIWSHHVLLWLVGPPPTNQMLRATISRLSPHRGGANAPPNDYHLRHNGLLIWSAENIAVPFCQTSVRTTHNHCCKTMASRVLLYHREACRPMPHQQTDSERGTFYSVSRFGTPRMPTHGLLLALDVDCRSNQITDRARPWLRAGRAMRHWTRVPKPDTNNFITLGRLMTNFYVSASAVHNRRCLVTYNPAPVRNYLRRLVVSSRTVDTQRVRTLCVPFLKPDCLRQSSVLSGTRTLAEVSGAAECMDRERLHTHLQCVVLKDRNVGSHRASVKRRPFVRPCSKRRAHEQFTPHKDGHVPSVCTLRAAVLLEACMKAPLLIAETRRSGSAPLYTQVLYYRYQHIYIEELPFATGAQGYDRVSLDWWLREDPDFVMKRSAGSSKQLRQLSSRVSLIMTTKPVRMVIFVVPVTRFASTLLLHRPPEIYLTNGSTFGSWPRSDCVARASPENVRKCSPLHARMVRNHDFHDMAPLHLGKVNGDNQRRIMDASPPTSIGGPNNSLTVSDTTLIITARTMAPTARNGRQSYMCRDRTLLKKGLHHPRKLPRARVIRVWGPVRVHVGDRQIKSKPSSPPSCHPLCMSLTWRVYKPCSILQLQHHLVISVHCCSSGAKTLLAATGVYYRGLLDVPVPHNHRVQAINKCNLVDRQTYLSRVRFLRPFGRLTLYNISTIIIFIHIVEPLLPLDRQSGRYNSGLFRRITRETRVYNRFLNVCDTYVSRIEVDCMIALAWADVIKRRGSVQPLTGGLSTVYVPRHDKSFNSIAIGSNIVSAWGLASGYNVMEGFAIDTRSQSLSMILLSHALYDTIGSLPASVCCQRSPYPNRTPWTVVRATSDAIYERTCAVKNSPMGLFTRRLDFKPTYTIQTKRPGPHAVVEHHTCTARLLLRMAPQGSHFGFVHSRPRSRHDGFPNLARSDSPPFPVDLMPIRIDPAWHSASYGGPPRCCASTFGLFQNIAIVRALRNRVLAHMTHIDDRHVSQRVDISRNSLTYATARQICRDPGRSSTNCQCDSWRQSAENTSYCNTAYRAGPADGAPNSQRCWHRFEVVCNTNAGFCRRGHVKKLIDKSLLYEDMTRMRVWNSRECYTYVHGCSLIAKSCSRYHVVYFKREPNRGYRILIAKMLSSVAPIRVFGRQPTLSLVHVASGWSFFTGAKFCVPIHSNYKHYEGRGQINPLFKGSVGDVVSRNDALDGHPDPLGGGSRGWELAVLEIAPTLRGTEYSPLPMSGTRRKNQEIAVAGERANCRTFSLLPGSMSAKWCARLSTDSGWRCFHRTASRCRMAAWRMVHGPSYLLRSIIPPLRHGYQHPLDSFDVWVRSASMDSQEFVIRSSGNRLVLRRQSFRCFFRLADRRDKVTVTELTDLSIPISNIVHFRNGWTNSASGVSLLHAKFLCAGSHHAGGSSPPTATTYIKMQKGRHQSHRAVKKHNWLLTRTIAFRMWGVSAVLINVLHPALSGRALPLDQTCCELRFSAVLSAMPRFCHHVLSLELTYLGVQSSTRTHTVSCDSQPVVDTPFQGPYRPSVTEARSYDDRIQSAEGVVLKGLCAESTRRMFSHGGILCRVSREPIAAQDSAPDRSESEVSLLGESHAGRVGKILATYIGGAYKPYKDVEHMRCKVCSAVQKSSPEVYLLMLSSAGRRENIIRRSSSALGLPPSPPTTFYDPLRHTLYKGGRSGSFDLRFMLGHHGMSDYPRILMEGHARLLSISKSGAPLFEAPHCLYEQQMYFTPVNEHSCDDTAGFQNQISQRRATIPECSPLIWIRNPLLHIPYQTLFRSSKDIMSSFESSSETVPIRLWLRAASENRRFAGHQTVFISSVCYWSFDRVVGAIRVGADKFKNRTPLYQLLLLLHLTVNLTRSSAQIPPITKASPLSCLPILSIRRHRDPYRVLIHTSRVPSPGTAWGLTSLLTSYSVGSSVDNWSDPYYCLKRLLLPRVPGTSRNELGRQAIGVLTQLLICQSGLQRYFGSNIPDEVTKENQTSRTGFLSIATRRIVCASSKGSARYPRTYKVIACARKRSSPLLHFDSGHRGGQNLLSKPRLSGYEALRRDVDAKFLFVSSTASTTHIRRVINSSCRNGLNGQPRSLALLYSRLTEYNEGDTGACNCSAFINDFTTDLESYKARPLYCGSPERRRRGLRVLERFVATIKLKALHHQENLYLLHLSKVGVCGPKSIRRLSHQVGRGVWVWIWSSYAQDSPIFPPVGDGWTRHS\n"
     ]
    }
   ],
   "source": [
    "from RNA_DICT import translate\n",
    "file = open('rosalind_prot.txt','r')\n",
    "data = file.read()\n",
    "file.close()\n",
    "s = [data[i:i+3] for i in range(0, len(data), 3)]\n",
    "print(translate(s))"
   ]
  },
  {
   "cell_type": "markdown",
   "metadata": {},
   "source": [
    "Problem\n",
    "For positive integers a and n, a modulo n (written amodn in shorthand) is the remainder when a is divided by n. For example, 29mod11=7 because 29=11×2+7.\n",
    "\n",
    "Modular arithmetic is the study of addition, subtraction, multiplication, and division with respect to the modulo operation. We say that a and b are congruent modulo n if amodn=bmodn; in this case, we use the notation a≡bmodn.\n",
    "\n",
    "Two useful facts in modular arithmetic are that if a≡bmodn and c≡dmodn, then a+c≡b+dmodn and a×c≡b×dmodn. To check your understanding of these rules, you may wish to verify these relationships for a=29, b=73, c=10, d=32, and n=11.\n",
    "\n",
    "As you will see in this exercise, some Rosalind problems will ask for a (very large) integer solution modulo a smaller number to avoid the computational pitfalls that arise with storing such large numbers.\n",
    "\n",
    "Given: A protein string of length at most 1000 aa.\n",
    "\n",
    "Return: The total number of different RNA strings from which the protein could have been translated, modulo 1,000,000. (Don't neglect the importance of the stop codon in protein translation.)"
   ]
  },
  {
   "cell_type": "code",
   "execution_count": 5,
   "metadata": {},
   "outputs": [
    {
     "name": "stdout",
     "output_type": "stream",
     "text": [
      "573824\n"
     ]
    }
   ],
   "source": [
    "def possible_rna(s):\n",
    "    result = 1\n",
    "    four = ['A','G','P','T','V']\n",
    "    six = ['L','R','S']\n",
    "    two = ['C','D','E','F','H','K','N','Q','Y']\n",
    "    one = ['M','W']\n",
    "    three = ['I']\n",
    "    for i in s:\n",
    "        if i in four:\n",
    "            result = result*4\n",
    "        elif i in six:\n",
    "            result = result*6\n",
    "        elif i in two:\n",
    "            result = result*2\n",
    "        elif i in three:\n",
    "            result = result*3\n",
    "    result = result * 3\n",
    "    return result\n",
    "    \n",
    "            \n",
    "file = open('rosalind_mrna.txt','r')\n",
    "data = file.read()\n",
    "file.close()\n",
    "n = 1000000\n",
    "res = int(possible_rna(data))\n",
    "print(res%n)\n"
   ]
  },
  {
   "cell_type": "markdown",
   "metadata": {},
   "source": [
    "n a weighted alphabet, every symbol is assigned a positive real number called a weight. A string formed from a weighted alphabet is called a weighted string, and its weight is equal to the sum of the weights of its symbols.\n",
    "\n",
    "The standard weight assigned to each member of the 20-symbol amino acid alphabet is the monoisotopic mass of the corresponding amino acid.\n",
    "\n",
    "Given: A protein string P of length at most 1000 aa.\n",
    "\n",
    "Return: The total weight of P. Consult the monoisotopic mass table."
   ]
  },
  {
   "cell_type": "code",
   "execution_count": null,
   "metadata": {},
   "outputs": [],
   "source": [
    "weight = {'A' : 71.03711,\n",
    "'C' : 103.00919,\n",
    "'D' : 115.02694,\n",
    "'E' : 129.04259,\n",
    "'F' : 147.06841,\n",
    "'G' : 57.02146,\n",
    "'H' : 137.05891,\n",
    "'I' : 113.08406,\n",
    "'K' : 128.09496,\n",
    "'L' : 113.08406,\n",
    "'M' : 131.04049,\n",
    "'N' : 114.04293,\n",
    "'P' : 97.05276,\n",
    "'Q' : 128.05858,\n",
    "'R' : 156.10111,\n",
    "'S' : 87.03203,\n",
    "'T' : 101.04768,\n",
    "'V' : 99.06841,\n",
    "'W' : 186.07931,\n",
    "'Y' : 163.06333 \n",
    "}\n",
    "\n",
    "data = 'MCSEYMNDTFRRMMPLNCDAVSDGQTCKHAMGQDRPGLSECTYMGIWLESVKPHVMKYDIKQFIDRCWPYMYYPEGKGLGIWHFGDIWDNAGSSCYDGVWEEMCPEGWFLQCITGGSIECGGYCALFFVQKEVVYKMLWHYPVVLAQNPQLGLLASSPQCSTYDRDEHPFIIKQQQPVEIDIDDTCWLMVGCYVYTEKLTYLRSFRPRFWMQTMNSRYLLDGQETEAQIEWETSLDPRVFKKFCHSFFPKMIVLAISKHSMSPVVKSYFRLQWYRNEIDNPRPTHMLQINPALFWIMFERWVFEFVRHYWMKVLWRADVERYSNKVKLSHWFTPNAICQWGAHHNADAWNEMFNDHNMKRYPHISRDVTQWLSKHSRCYNCRLAGSLCMKDMDYGVERIYWHFNHSNMRSNMMNGNGQAHTSCCGCWAFFDKVVAYQLDMMKQAWEFQAWFNRHAEGEYTCLNCKWYTICWFDKIPQAKEFDAWWEIRHVFSWAMQLVLYGPTFVPEWKNHLMFRYCWGDRFWRPTSNKGWWICQDVADYESFCRPSLWFWRVAAKFCCLAPVHIWVSEPILHYQQDQQPQRCSLLWRAYWVNCVWLKYSWSVCGAKALGIKPFSHVSTGAWTRVTTYRIKNQMWQPMRISLYKGICMRMVLYVTIANRYANDHQTSGKHCIWQYQTVGLFLGTTPLVVNDETMGFFYRNQMIGFPYFGPLNVWTIWCLCIGQRYQGQRETCFAPMPKADPYRYLWHTYHVFAHYVYTGHYLRYEFAEESHIIQTISTMWIIIWATMEQCMFNEGFGVPGYMMPTSLELIDAWIYPKVTNQRNMQASEEDAGEEQEVTDLTVWHSTAMCNWSTMLPELPQRWDREHIGHWLH'\n",
    "\n",
    "result = 0\n",
    "for i in data:\n",
    "    result += weight[i]\n",
    "print('%.3f' % result)\n",
    "#had a problem with importing the text file so i decided to just copy paste it\n"
   ]
  },
  {
   "cell_type": "markdown",
   "metadata": {},
   "source": [
    "Problem\n",
    "A common substring of a collection of strings is a substring of every member of the collection. We say that a common substring is a longest common substring if there does not exist a longer common substring. For example, \"CG\" is a common substring of \"ACGTACGT\" and \"AACCGTATA\", but it is not as long as possible; in this case, \"CGTA\" is a longest common substring of \"ACGTACGT\" and \"AACCGTATA\".\n",
    "\n",
    "Note that the longest common substring is not necessarily unique; for a simple example, \"AA\" and \"CC\" are both longest common substrings of \"AACC\" and \"CCAA\".\n",
    "\n",
    "Given: A collection of k (k≤100) DNA strings of length at most 1 kbp each in FASTA format.\n",
    "\n",
    "Return: A longest common substring of the collection. (If multiple solutions exist, you may return any single solution.)"
   ]
  },
  {
   "cell_type": "code",
   "execution_count": 6,
   "metadata": {},
   "outputs": [
    {
     "name": "stdout",
     "output_type": "stream",
     "text": [
      "start\n",
      "TCTGGGATTATACGGGATTTAGTGGAGGTTGGATCCTCCTCATAAACGAGTGACTGCAAAATATAGCTTTGGGCCTGGACCGAGCGGCTTAGCCATATACAAGAGGTATATCGCAAGGGAAAAAAGGGTCCTACACTCTAAAACCGCAGTCGACAATCCAAACGATTCGATGGCCGGGGGAGTCTAGCTGAGTGACGAGTGACTCCTAGC\n"
     ]
    }
   ],
   "source": [
    "file = open('rosalind_lcsm.txt','r')\n",
    "data = file.read()\n",
    "file.close()\n",
    "data1 = data.split('\\n')\n",
    "seq_dict = {}\n",
    "label = ''\n",
    "print('start')\n",
    "#store all sequences\n",
    "for line in data1:\n",
    "    if '>' in line:\n",
    "        label = line\n",
    "        seq_dict[label] = ''\n",
    "    else:\n",
    "        seq_dict[label] += line\n",
    "seq = list(seq_dict.values())\n",
    "low = seq[0]\n",
    "\n",
    "#find smallest sequence\n",
    "for i in seq:\n",
    "    if len(i) < len(low):\n",
    "        low = i\n",
    "\n",
    "\n",
    "#find all possible sub sequences in the shortest sequence\n",
    "sequences = []\n",
    "n = len(low)\n",
    "for i in range(n):\n",
    "    for j in range(n):\n",
    "        sub_sequence = low[j:n-i+j]\n",
    "        sequences.append(sub_sequence)\n",
    "\n",
    "\n",
    "\n",
    "\n",
    "#find all sub sequences that are present in all the sequences\n",
    "results = []\n",
    "for patron in sequences:\n",
    "    check = 0\n",
    "    for secuencias in seq:\n",
    "        if patron in secuencias:\n",
    "            check += 1\n",
    "        else:\n",
    "            break\n",
    "    if check == len(seq):\n",
    "        results.append(patron)\n",
    "lenght = len(results[0])\n",
    "for b in results:\n",
    "    if len(b) > lenght:\n",
    "        lenght = len(b)\n",
    "\n",
    "\n",
    "\n",
    "#find the longest sub sequence, could be more than 1 if they are of equal lenght.\n",
    "final_result = []\n",
    "for c in results:\n",
    "    if len(c) == lenght:\n",
    "        final_result.append(c)\n",
    "\n",
    "#print just 1 as indicated in Rosalind\n",
    "print(final_result[0])"
   ]
  },
  {
   "cell_type": "markdown",
   "metadata": {},
   "source": [
    "Problem\n",
    "A permutation of length n is an ordering of the positive integers {1,2,…,n}. For example, π=(5,3,2,1,4) is a permutation of length 5.\n",
    "\n",
    "Given: A positive integer n≤7.\n",
    "\n",
    "Return: The total number of permutations of length n, followed by a list of all such permutations (in any order)."
   ]
  },
  {
   "cell_type": "code",
   "execution_count": null,
   "metadata": {},
   "outputs": [],
   "source": [
    "from itertools import permutations\n",
    "\n",
    "file = open('rosalind_perm.txt','r')\n",
    "data =int(file.read())\n",
    "\n",
    "n = 1\n",
    "numbers = []\n",
    "for i in range(data):\n",
    "    numbers.append(n)\n",
    "    n += 1\n",
    "perms = list(permutations(numbers))\n",
    "remove = ['(',')',',']\n",
    "print(len(perms))\n",
    "for p in perms:\n",
    "    \n",
    "    p = str(p)\n",
    "    translation = p.maketrans({i:'' for i in remove})\n",
    "    p = p.translate(translation)\n",
    "    print(p)\n",
    "\n",
    "\n",
    "\n"
   ]
  },
  {
   "cell_type": "markdown",
   "metadata": {},
   "source": [
    "Problem\n",
    "\n",
    "Figure 2. Palindromic recognition site\n",
    "A DNA string is a reverse palindrome if it is equal to its reverse complement. For instance, GCATGC is a reverse palindrome because its reverse complement is GCATGC. See Figure 2.\n",
    "\n",
    "Given: A DNA string of length at most 1 kbp in FASTA format.\n",
    "\n",
    "Return: The position and length of every reverse palindrome in the string having length between 4 and 12. You may return these pairs in any order."
   ]
  },
  {
   "cell_type": "code",
   "execution_count": null,
   "metadata": {},
   "outputs": [],
   "source": [
    "#had to copy most of the code because I did not knew how to write it but my idea was pretty similar\n",
    "from Bio import SeqIO\n",
    "from Bio.Seq import Seq\n",
    "\n",
    "f = open(\"rosalind_revp.txt\", 'r')\n",
    "seq = SeqIO.read(f, \"fasta\")\n",
    "f.close()\n",
    "\n",
    "hand_in = open(\"output.txt\", 'w')\n",
    "for start in range(len(seq)):\n",
    "    for end in range(len(seq), start, -1): \n",
    "        if end - start < 4: \n",
    "            break\n",
    "        else:\n",
    "            \n",
    "            if str(seq.seq[start:end]) == str(seq.seq[start:end].reverse_complement()):\n",
    "                \n",
    "                if len(seq.seq[start:end]) >= 4 and len(seq.seq[start:end]) <= 12:\n",
    "                    \n",
    "                    print(\" \".join(map(str, [start+1, len(seq.seq[start:end])])), file = hand_in)"
   ]
  },
  {
   "cell_type": "code",
   "execution_count": null,
   "metadata": {},
   "outputs": [],
   "source": [
    "# This is my sad attempt\n",
    "s1 = 'TCAATGCATGCGGGTCTATATGCAT'\n",
    "\n",
    "result={}\n",
    "for i in range(len(s1)):\n",
    "    w = 12\n",
    "    while w >= 4:\n",
    "        try:\n",
    "            test = s1[i:i+w]\n",
    "            n = len(test)\n",
    "            half = test[:(x:=int(len(test)/2//1))], test[x:]\n",
    "            half = list(half)\n",
    "            w = w-2\n",
    "            if half[0] == ''.join(reversed(half[1])):\n",
    "                result[i] = n\n",
    "\n",
    "        except:\n",
    "            w = w-2\n",
    "print(result)\n",
    "#my idea was similar but I thought i could do it without the reverse complement, I still think its possible but i could not code the algorithm I had in mind"
   ]
  },
  {
   "cell_type": "markdown",
   "metadata": {},
   "source": [
    "Problem\n",
    "Assume that an alphabet A has a predetermined order; that is, we write the alphabet as a permutation A=(a1,a2,…,ak), where a1<a2<⋯<ak. For instance, the English alphabet is organized as (A,B,…,Z).\n",
    "\n",
    "Given two strings s and t having the same length n, we say that s precedes t in the lexicographic order (and write s<Lext) if the first symbol s[j] that doesn't match t[j] satisfies sj<tj in A.\n",
    "\n",
    "Given: A collection of at most 10 symbols defining an ordered alphabet, and a positive integer n (n≤10).\n",
    "\n",
    "Return: All strings of length n that can be formed from the alphabet, ordered lexicographically (use the standard order of symbols in the English alphabet)."
   ]
  },
  {
   "cell_type": "code",
   "execution_count": null,
   "metadata": {},
   "outputs": [],
   "source": [
    "import itertools\n",
    "def perm(n, seq):\n",
    "    for p in itertools.product(seq, repeat=n):\n",
    "        x= \"\".join(p)\n",
    "        print(x)\n",
    "\n",
    "perm(3, \"ABCDEFGHI\")\n"
   ]
  },
  {
   "cell_type": "markdown",
   "metadata": {},
   "source": [
    "Problem\n",
    "A subsequence of a permutation is a collection of elements of the permutation in the order that they appear. For example, (5, 3, 4) is a subsequence of (5, 1, 3, 4, 2).\n",
    "\n",
    "A subsequence is increasing if the elements of the subsequence increase, and decreasing if the elements decrease. For example, given the permutation (8, 2, 1, 6, 5, 7, 4, 3, 9), an increasing subsequence is (2, 6, 7, 9), and a decreasing subsequence is (8, 6, 5, 4, 3). You may verify that these two subsequences are as long as possible.\n",
    "\n",
    "Given: A positive integer n≤10000 followed by a permutation π of length n.\n",
    "\n",
    "Return: A longest increasing subsequence of π, followed by a longest decreasing subsequence of π."
   ]
  },
  {
   "cell_type": "markdown",
   "metadata": {},
   "source": [
    "Tried several methods, the last one is the correct one but I left 2 more that seemed like they could have worked.\n",
    "\n",
    "First Idea: Do the powerset of the given set,check those sequences that follow a decreasing or increasing order and store them. The last step would be to check every sequence and see if they are following the order correctly. I abandoned this idea since storing all this info was more than what my RAM could handle and the code has too much computational complexity anyways. I did attempt to manage my memory with methods I found online, but they seem to not be enough.\n",
    "\n",
    "Second Idea: Copied a part from a code to find the lenght of the longest increasing subsequence . I made a list storing each number cumulative lenght of their highest possible sequence (with them as the last number) and then store them in a dictionary (key = number, item = LIS value). Then I made an algorithm to assemble the sequence using their respective LIS number (grabing numbers according to their LIS number, starting from the highest to the lowest.) The algorithm was flawed since it can return wrong sequences(I'm also unsure how to chose the first number and iterate all possible sequences). I could assemble all possible sequences following this method and then add an extra check, using the original list indexes to check whether they are right or wrong. I abandoned this idea since it seemed again inefficient and memory consuming.\n",
    "\n",
    "Solution: Copied code found on GitHub, I studied it to understand how it works.\n"
   ]
  },
  {
   "cell_type": "code",
   "execution_count": 7,
   "metadata": {},
   "outputs": [
    {
     "name": "stdout",
     "output_type": "stream",
     "text": [
      "(5, 6)\n",
      "(7, 5, 2, 1)\n"
     ]
    }
   ],
   "source": [
    "#This method works but consumes too much memory, is wildly inneficient in both memory and speed but at least im happy I did it alone.\n",
    "\n",
    "'''\n",
    "file = open('rosalind_lgis.txt','r')\n",
    "data = file.read()\n",
    "lines = data.split('\\n')\n",
    "n = int(lines[0])\n",
    "arr = lines[1].split()\n",
    "'''\n",
    "n = 7\n",
    "arr = [7,5,2,1,6,4,3]\n",
    "\n",
    "\n",
    "\n",
    "\n",
    "\n",
    "\n",
    "def Increasing(arr,n):\n",
    "    \n",
    "    from itertools import combinations\n",
    "\n",
    "    comb = []\n",
    "    for i in range(0,n+1):\n",
    "            for element in list(combinations(arr,i)):\n",
    "                comb.append(element)\n",
    "\n",
    "\n",
    "    memo = []\n",
    "    for c in comb:\n",
    "        old = None\n",
    "        counter = 0\n",
    "        check = len(c)\n",
    "        for number in c:\n",
    "            if old == None:\n",
    "                old = number\n",
    "\n",
    "            else:\n",
    "                if old < number:   #important\n",
    "                    counter += 1\n",
    "                    old = number\n",
    "                else:\n",
    "                    counter = 0\n",
    "                    break\n",
    "        if counter == check-1:\n",
    "            memo.append(c)\n",
    "    del(comb)\n",
    "\n",
    "\n",
    "    #find the longest\n",
    "    longest = []\n",
    "    for seq in memo:\n",
    "        if len(seq) > len(longest):\n",
    "            longest = seq\n",
    "    del(memo)\n",
    "    return longest\n",
    "\n",
    "def Decreasing(arr,n):\n",
    "\n",
    "    from itertools import combinations\n",
    "\n",
    "    comb = []\n",
    "    for i in range(0,n+1):\n",
    "            for element in list(combinations(arr,i)):\n",
    "                comb.append(element)\n",
    "\n",
    "\n",
    "    memo = []\n",
    "    for c in comb:\n",
    "        old = None\n",
    "        counter = 0\n",
    "        check = len(c)\n",
    "        for number in c:\n",
    "            if old == None:\n",
    "                old = number\n",
    "\n",
    "            else:\n",
    "                if old > number:   #important\n",
    "                    counter += 1\n",
    "                    old = number\n",
    "                else:\n",
    "                    counter = 0\n",
    "                    break\n",
    "        if counter == check-1:\n",
    "            memo.append(c)\n",
    "    del(comb)\n",
    "\n",
    "    #find the longest\n",
    "    longest = []\n",
    "    for seq in memo:\n",
    "        if len(seq) > len(longest):\n",
    "            longest = seq\n",
    "    del(memo)\n",
    "    return longest\n",
    "\n",
    "\n",
    "\n",
    "\n",
    "\n",
    "print(Increasing(arr,n))\n",
    "print(Decreasing(arr,n))\n",
    "\n",
    "\n"
   ]
  },
  {
   "cell_type": "code",
   "execution_count": 2,
   "metadata": {},
   "outputs": [
    {
     "name": "stdout",
     "output_type": "stream",
     "text": [
      "[10, 22, 33, 50, 60]\n"
     ]
    }
   ],
   "source": [
    "\n",
    "def Increasing(arr,n):\n",
    "    lis = [1]*n\n",
    "\n",
    "        \n",
    "    for i in range(1, n):\n",
    "        for j in range(0, i):\n",
    "            if arr[i] > arr[j] and lis[i] < lis[j] + 1:\n",
    "                lis[i] = lis[j]+1\n",
    "\n",
    "\n",
    "    dict = {}\n",
    "    for x in range(len(arr)):\n",
    "            dict[arr[x]] = lis[x]\n",
    "    longest_seq = []\n",
    "           \n",
    "    for i in dict.keys():\n",
    "        if len(longest_seq)== 0:\n",
    "            longest_seq.append(i)\n",
    "            old = dict[i]\n",
    "        elif dict[i] > old:\n",
    "            longest_seq.append(i)\n",
    "            old = dict[i]\n",
    "    return longest_seq\n",
    "\n",
    "    \n",
    "\n",
    "arr = [10, 22, 9, 33, 21, 50, 41, 60]\n",
    "n = len(arr)\n",
    "print(Increasing(arr,n))\n",
    "\n",
    "\n"
   ]
  },
  {
   "cell_type": "code",
   "execution_count": null,
   "metadata": {},
   "outputs": [],
   "source": [
    "def Longest(nums, n, func):\n",
    "    lst = []      # len of the new_list every loop, int\n",
    "    new_list = [] # list of list with all the possible sub seq\n",
    "    for i in range(n):\n",
    "        lst.append(1)\n",
    "        new_list.append([nums[i]])            #update the lenght of lst and the content of new_list\n",
    "        for j in range(i):\n",
    "            if func(nums[j], nums[i]):\n",
    "                lst[i] = max(lst[i], lst[j] + 1)\n",
    "                if len(new_list[i]) <= len(new_list[j]):        #check if the Increasing or Decreasing in order rule is true (this is specified by the lambda function)\n",
    "                    new_list[i] = new_list[j] + [nums[i]]       #If it is, append the subsequence, this runs until all possible subsequences are found\n",
    "    return max(lst, new_list[lst.index(max(lst))])              #Then find the longest\n",
    "\n",
    "f = open(\"rosalind_lgis.txt\", \"r\") \n",
    "n = int(f.readline().strip())\n",
    "nums = list(int(i) for i in f.readline().strip().split(\" \"))\n",
    "f.close()\n",
    "\n",
    "print(*Longest(nums, n, lambda a, b: a<b))\n",
    "print(*Longest(nums, n, lambda a, b :a> b))    #the function works both ways as long as it is given the right lambda function"
   ]
  }
 ],
 "metadata": {
  "kernelspec": {
   "display_name": "Python 3.10.7 64-bit",
   "language": "python",
   "name": "python3"
  },
  "language_info": {
   "codemirror_mode": {
    "name": "ipython",
    "version": 3
   },
   "file_extension": ".py",
   "mimetype": "text/x-python",
   "name": "python",
   "nbconvert_exporter": "python",
   "pygments_lexer": "ipython3",
   "version": "3.10.7"
  },
  "orig_nbformat": 4,
  "vscode": {
   "interpreter": {
    "hash": "be3e3e6aee14e42620e5008e3e9fa23d1b764783a87a6f38e2445f887853eae7"
   }
  }
 },
 "nbformat": 4,
 "nbformat_minor": 2
}
