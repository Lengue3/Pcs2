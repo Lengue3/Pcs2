{
 "cells": [
  {
   "cell_type": "markdown",
   "metadata": {},
   "source": [
    "Problem\n",
    "A graph whose nodes have all been labeled can be represented by an adjacency list, in which each row of the list contains the two node labels corresponding to a unique edge.\n",
    "\n",
    "A directed graph (or digraph) is a graph containing directed edges, each of which has an orientation. That is, a directed edge is represented by an arrow instead of a line segment; the starting and ending nodes of an edge form its tail and head, respectively. The directed edge with tail v and head w is represented by (v,w) (but not by (w,v)). A directed loop is a directed edge of the form (v,v).\n",
    "\n",
    "For a collection of strings and a positive integer k, the overlap graph for the strings is a directed graph Ok in which each string is represented by a node, and string s is connected to string t with a directed edge when there is a length k suffix of s that matches a length k prefix of t, as long as s≠t; we demand s≠t to prevent directed loops in the overlap graph (although directed cycles may be present).\n",
    "\n",
    "Given: A collection of DNA strings in FASTA format having total length at most 10 kbp.\n",
    "\n",
    "Return: The adjacency list corresponding to O3. You may return edges in any order."
   ]
  },
  {
   "cell_type": "code",
   "execution_count": null,
   "metadata": {},
   "outputs": [],
   "source": [
    "import networkx as nx\n",
    "G = nx.DiGraph()\n",
    "file = open('rosalind_grph.txt','r')\n",
    "data = file.read()\n",
    "data1 = data.split('\\n')\n",
    "\n",
    "fasta = {}\n",
    "for line in data1:\n",
    "    if '>' in line:\n",
    "        label = line\n",
    "        fasta[label] = ''\n",
    "        G.add_node(label)\n",
    "        \n",
    "    else:\n",
    "        fasta[label] += line\n",
    "for k in fasta.keys():\n",
    "    for i in fasta.keys():\n",
    "        if fasta[i] != fasta[k]:\n",
    "            if fasta[k][-3:] == fasta[i][:3]:\n",
    "                node1 = k\n",
    "                node2 = i\n",
    "                G.add_edge(node1,node2)\n",
    "for item in list(G.edges):\n",
    "    id_list = []\n",
    "    for id in item:\n",
    "        id_list.append(id)\n",
    "    print(id_list[0][1:],id_list[1][1:])"
   ]
  },
  {
   "attachments": {},
   "cell_type": "markdown",
   "metadata": {},
   "source": [
    "Problem\n",
    "To allow for the presence of its varying forms, a protein motif is represented by a shorthand as follows: [XY] means \"either X or Y\" and {X} means \"any amino acid except X.\" For example, the N-glycosylation motif is written as N{P}[ST]{P}.\n",
    "\n",
    "You can see the complete description and features of a particular protein by its access ID \"uniprot_id\" in the UniProt database, by inserting the ID number into\n",
    "\n",
    "http://www.uniprot.org/uniprot/uniprot_id\n",
    "Alternatively, you can obtain a protein sequence in FASTA format by following\n",
    "\n",
    "http://www.uniprot.org/uniprot/uniprot_id.fasta\n",
    "For example, the data for protein B5ZC00 can be found at http://www.uniprot.org/uniprot/B5ZC00.\n",
    "\n",
    "Given: At most 15 UniProt Protein Database access IDs.\n",
    "\n",
    "Return: For each protein possessing the N-glycosylation motif, output its given access ID followed by a list of locations in the protein string where the motif can be found."
   ]
  },
  {
   "attachments": {},
   "cell_type": "markdown",
   "metadata": {},
   "source": [
    "This code works, but Rosalind did not update the ID's they give, and some of them have been changed. This does not allow my code to retrieve the sequences and therefore makes me fail the test. I saw a lot of people complaining about it in the \"Questions\" section. After completing this code I tried with copied ones from GitHub, and not even those worked."
   ]
  },
  {
   "cell_type": "code",
   "execution_count": 2,
   "metadata": {},
   "outputs": [
    {
     "name": "stdout",
     "output_type": "stream",
     "text": [
      "A3DF24\n",
      "[178]\n",
      "Q3Z2Z2\n",
      "[49]\n",
      "A6UDH9\n",
      "[207]\n"
     ]
    }
   ],
   "source": [
    "import requests\n",
    "\n",
    "\n",
    "url = 'https://www.uniprot.org/uniprot/'\n",
    " \n",
    "with open(\"rosalind_mprt.txt\") as file:\n",
    "    seqIDs = file.read().replace(\"\\n\", \" \").split()\n",
    "sequences = {}\n",
    "for proID in seqIDs:\n",
    "    goToURL = url+proID+\".fasta\"\n",
    "    response = requests.get(goToURL)\n",
    "    sequences[proID] = (response.text.split(\"\\n\"))\n",
    "    sequences[proID] = \"\".join(sequences[proID][1::])\n",
    "#copied this part of the problem because I did not know how to do it, the rest is mine\n",
    "    \n",
    "for key in sequences.keys():\n",
    "    seq = sequences[key]\n",
    "    positions = []\n",
    "    for i in range(len(seq)-2):\n",
    "        test = 'AAAA'\n",
    "        if seq[i] == 'N':\n",
    "            test = seq[i:i+4]\n",
    "            \n",
    "        \n",
    "        if test[1] == 'P' or test[3] == 'P':\n",
    "            flag1 = True\n",
    "        \n",
    "\n",
    "        if test[2] == 'S' or test[2] == 'T':\n",
    "            positions.append(i+1)\n",
    "\n",
    "    if len(positions) > 0:\n",
    "        print(key)\n",
    "        print(positions)"
   ]
  },
  {
   "attachments": {},
   "cell_type": "markdown",
   "metadata": {},
   "source": [
    "Either strand of a DNA double helix can serve as the coding strand for RNA transcription. Hence, a given DNA string implies six total reading frames, or ways in which the same region of DNA can be translated into amino acids: three reading frames result from reading the string itself, whereas three more result from reading its reverse complement.\n",
    "\n",
    "An open reading frame (ORF) is one which starts from the start codon and ends by stop codon, without any other stop codons in between. Thus, a candidate protein string is derived by translating an open reading frame into amino acids until a stop codon is reached.\n",
    "\n",
    "Given: A DNA string s of length at most 1 kbp in FASTA format.\n",
    "\n",
    "Return: Every distinct candidate protein string that can be translated from ORFs of s. Strings can be returned in any order."
   ]
  },
  {
   "cell_type": "code",
   "execution_count": 1,
   "metadata": {},
   "outputs": [
    {
     "name": "stdout",
     "output_type": "stream",
     "text": [
      "MS\n",
      "MRALANKGTSQFHPES\n",
      "MIVLRTVELISPAGC\n",
      "MRP\n",
      "MLPKVLATGARVMASLNRALGVYKSGTMQRTIPSK\n",
      "MSIRSSSRGR\n",
      "MARRT\n",
      "MPCSMRP\n",
      "MTLAPVANTFGNIRDNCCPGVWLPLASFEGWEPGVFGPKVFQKRQRRSIDLSSCS\n",
      "MLCSGCNQGSQAKSTGNWNI\n",
      "MKPTVTTLRDNNYRGCYRKYWLRGPESWPH\n",
      "MVCCPQPAC\n",
      "MKSRHWQTAAWIKIHQPGWPDCTR\n",
      "MQRTIPSK\n",
      "MVPLL\n",
      "MFQLPVDLAWDP\n",
      "MNLYPGSRLPVSRLHIIGTAARRALSFRRLAGLYTK\n",
      "MASLNRALGVYKSGTMQRTIPSK\n"
     ]
    }
   ],
   "source": [
    "from DNA_toolkit import *\n",
    "\n",
    "file = open('rosalind_orf.txt','r')\n",
    "data = file.read()\n",
    "data1 = data.split('\\n')\n",
    "s = ''\n",
    "label = ''\n",
    "for line in data1:\n",
    "    if '>' in line:\n",
    "        label += line\n",
    "    else:\n",
    "        s += line\n",
    "\n",
    "\n",
    "result = all_proteins_from_orfs(s,0,0,True)\n",
    "set = set(result) #turned to set to remove duplicates\n",
    "for prot in set:\n",
    "    print(str(prot))"
   ]
  },
  {
   "attachments": {},
   "cell_type": "markdown",
   "metadata": {},
   "source": [
    "Problem\n",
    "After identifying the exons and introns of an RNA string, we only need to delete the introns and concatenate the exons to form a new string ready for translation.\n",
    "\n",
    "Given: A DNA string s (of length at most 1 kbp) and a collection of substrings of s acting as introns. All strings are given in FASTA format.\n",
    "\n",
    "Return: A protein string resulting from transcribing and translating the exons of s. (Note: Only one solution will exist for the dataset provided.)\n",
    "\n"
   ]
  },
  {
   "cell_type": "code",
   "execution_count": null,
   "metadata": {},
   "outputs": [],
   "source": [
    "from utilities import fasta_dict\n",
    "from DNA_toolkit import *\n",
    "\n",
    "fasta = fasta_dict('rosalind_splc.txt')\n",
    "\n",
    "#store sequences in a list and find the one that is not a substring\n",
    "sub_sequences = []\n",
    "for i in fasta.keys():\n",
    "    sub_sequences.append(fasta[i])\n",
    "\n",
    "\n",
    "seq = str(sub_sequences[0])\n",
    "sub_sequences.remove(seq)\n",
    "for s in sub_sequences:\n",
    "    splc = seq.split(s)\n",
    "    seq = ''.join(splc)\n",
    "res = ''.join(translate_seq(seq))\n",
    "print(res[:-1])"
   ]
  },
  {
   "attachments": {},
   "cell_type": "markdown",
   "metadata": {},
   "source": [
    "Problem\n",
    "\n",
    "First, let Kn denote the complete graph on 2n labeled nodes, in which every node is connected to every other node with an edge, and let pn denote the total number of perfect matchings in Kn. For a given node x, there are 2n−1 ways to join x to the other nodes in the graph, after which point we must form a perfect matching on the remaining 2n−2 nodes. This reasoning provides us with the recurrence relation pn=(2n−1)⋅pn−1; using the fact that p1 is 1, this recurrence relation implies the closed equation pn=(2n−1)(2n−3)(2n−5)⋯(3)(1).\n",
    "\n",
    "Given an RNA string s=s1…sn, a bonding graph for s is formed as follows. First, assign each symbol of s to a node, and arrange these nodes in order around a circle, connecting them with edges called adjacency edges. Second, form all possible edges {A, U} and {C, G}, called basepair edges; we will represent basepair edges with dashed edges, as illustrated by the bonding graph in Figure 4.\n",
    "\n",
    "Note that a matching contained in the basepair edges will represent one possibility for base pairing interactions in s, as shown in Figure 5. For such a matching to exist, s must have the same number of occurrences of 'A' as 'U' and the same number of occurrences of 'C' as 'G'.\n",
    "\n",
    "Given: An RNA string s of length at most 80 bp having the same number of occurrences of 'A' as 'U' and the same number of occurrences of 'C' as 'G'.\n",
    "\n",
    "Return: The total possible number of perfect matchings of basepair edges in the bonding graph of s."
   ]
  },
  {
   "cell_type": "code",
   "execution_count": null,
   "metadata": {},
   "outputs": [],
   "source": [
    "from math import factorial\n",
    "file = open('rosalind_pmch.txt','r')\n",
    "data = file.read()\n",
    "file.close()\n",
    "data1 = data.split('\\n')\n",
    "seq = ''\n",
    "for line in data1:\n",
    "    if '>' in line:\n",
    "        label = line\n",
    "    else:\n",
    "        seq += line\n",
    "\n",
    "print(factorial(seq.count('A')) * factorial(seq.count('C')))\n"
   ]
  },
  {
   "attachments": {},
   "cell_type": "markdown",
   "metadata": {},
   "source": [
    "Problem\n",
    "A partial permutation is an ordering of only k objects taken from a collection containing n objects (i.e., k≤n). For example, one partial permutation of three of the first eight positive integers is given by (5,7,2).\n",
    "\n",
    "The statistic P(n,k) counts the total number of partial permutations of k objects that can be formed from a collection of n objects. Note that P(n,n) is just the number of permutations of n objects, which we found to be equal to n!=n(n−1)(n−2)⋯(3)(2) in “Enumerating Gene Orders”.\n",
    "\n",
    "Given: Positive integers n and k such that 100≥n>0 and 10≥k>0.\n",
    "\n",
    "Return: The total number of partial permutations P(n,k), modulo 1,000,000."
   ]
  },
  {
   "cell_type": "code",
   "execution_count": 17,
   "metadata": {},
   "outputs": [
    {
     "name": "stdout",
     "output_type": "stream",
     "text": [
      "393600\n"
     ]
    }
   ],
   "source": [
    "from math import factorial\n",
    "n = 97\n",
    "k = 9\n",
    "\n",
    "Pr = (factorial(n)) / factorial((n-k))\n",
    "print(int(Pr % 1000000))"
   ]
  },
  {
   "attachments": {},
   "cell_type": "markdown",
   "metadata": {},
   "source": [
    "Problem\n",
    "\n",
    "Figure 2. A labeled tree with 6 vertices and 5 edges.\n",
    "An undirected graph is connected if there is a path connecting any two nodes. A tree is a connected (undirected) graph containing no cycles; this definition forces the tree to have a branching structure organized around a central core of nodes, just like its living counterpart. See Figure 2.\n",
    "\n",
    "We have already grown familiar with trees in “Mendel's First Law”, where we introduced the probability tree diagram to visualize the outcomes of a random variable.\n",
    "\n",
    "In the creation of a phylogeny, taxa are encoded by the tree's leaves, or nodes having degree 1. A node of a tree having degree larger than 1 is called an internal node.\n",
    "\n",
    "Given: A positive integer n (n≤1000) and an adjacency list corresponding to a graph on n nodes that contains no cycles.\n",
    "\n",
    "Return: The minimum number of edges that can be added to the graph to produce a tree."
   ]
  },
  {
   "cell_type": "code",
   "execution_count": 15,
   "metadata": {},
   "outputs": [
    {
     "name": "stdout",
     "output_type": "stream",
     "text": [
      "79\n"
     ]
    }
   ],
   "source": [
    "import networkx as nx\n",
    "G = nx.Graph()\n",
    "file = open('rosalind_tree.txt','r')\n",
    "data = file.read()\n",
    "file.close()\n",
    "data1 = data.split('\\n')\n",
    "n = int(data1[0])\n",
    "#generate and adjacency list\n",
    "adjacency = []\n",
    "for i in data1:\n",
    "    if i == data1[0]:\n",
    "        continue\n",
    "    else:\n",
    "        t = i.split(' ')\n",
    "        tup = tuple(t)\n",
    "        adjacency.append(tup)\n",
    "\n",
    "for n in range(1,n+1):  #generate the nodes\n",
    "    G.add_node(str(n))\n",
    "\n",
    "#add the edges\n",
    "G.add_edges_from(adjacency)\n",
    "nbunch = list(G.nodes)\n",
    "\n",
    "#at this point I realized what the algorithm was,\n",
    "# and doing the graph was actually useless, \n",
    "# but since I had already done it I decided to use it anyways\n",
    "nodes = len(list(G.nodes))\n",
    "edges = len(list(G.edges))\n",
    "\n",
    "print((nodes-1)-edges)\n",
    "\n",
    "\n",
    "\n",
    "\n"
   ]
  },
  {
   "attachments": {},
   "cell_type": "markdown",
   "metadata": {},
   "source": [
    "Problem\n",
    "For a collection of strings, a larger string containing every one of the smaller strings as a substring is called a superstring.\n",
    "\n",
    "By the assumption of parsimony, a shortest possible superstring over a collection of reads serves as a candidate chromosome."
   ]
  },
  {
   "attachments": {},
   "cell_type": "markdown",
   "metadata": {},
   "source": [
    "This code is copied, I watched a video on youtube explaining the \"Greedy chromosome assembly\", which was basically this idea. I did not know how to program it in recursive, and there were just far too many for loops. I copied this idea since its using the same technique I saw on youtube. I left notations to show I actually understand what it does."
   ]
  },
  {
   "cell_type": "code",
   "execution_count": 7,
   "metadata": {},
   "outputs": [
    {
     "name": "stdout",
     "output_type": "stream",
     "text": [
      "GCTGTCCTGCATTGCTCAGTCTAGGCGTGTTCTCAACAGAATGTTTTCAGAGGTAGTCGAGTTCCCCACAGATGGCTGGAGCCAAGCTGTCGAGAAAGCCCGTGTTTAAAACCCCTAGCGGCTTATAGGCGGAGCACTAACGTCCTCCATGACTTTTCACGTCTATGGGGGGCTGTTGCACTGCAGCTGAGATAACTCCACGGGCTGCGCGAGCGTCATGGCTGCATTGAGAAAGATTCTATCTTGCCGGGCCAGACGAATGTATCGTTTTGATCGAAATCTCTGCCGGTGTCAAGCACTACGAGCTCCATTAACGGTTGACATCGAGGAGAAGCGGATTCTTTTTAAATAGTAATGTAGCCACCACGGCCGGGGGAGAGGGTCTCTCATGGAATAAAGTGTTCCAGTAGCACCAAGGTAAAAGGAAAAACGTATAGTGCGGAATACCGAGACTTTGAGTGTCGTGGGGGTCCGCGGTTGTAGGTTCTAAGCCTAATTATATATCGATAACTTATGCCTGTCGCGGTTCGGGCCATCGCAGGCGTACTGCTGGGCCGAGTATATACGGTATAATCACCTGAGTGTGGCGGTGGAAAGATCCGGACCGGACAAAACGGATACGCGTGACTCAGCTATCCTGAACGGGTTCAAGCGCACCGATATGCGAATGTTTTGCTCCAGCCAGACTCCGGCCTGCAATGACTATTGGGGCCTACCGCGATGTGTTAGATGCGATCAAACCTTGCGGTCGCGCTTAACCGGTAGTGCGTGTCCTCAACCCAGTCGGATGGGTCGCGAACCGTAAACTTAATCATCCTGGTATGTCTTGTTGTACCTACACGTAGATCCTCGCTCGACTCGGTATCTATAGTATATAAATTGCAAGGCTTCATCATAGGGCGTTCCTGTAGCATCCGAGACAATAACCACCAAAAGTCCCTTAGCTCTAAGTTTGGGCTGCTACGCAATAGAACGGAGACCTTAGAGGTAGGAGACTTGTTACATACAGGGGATCGAGGCCATATATAGAAAACACTATCCAGCTCACGTCCATCTTCCTTTGACCACAGCAATTTGGACACCACGGCCAAGTTTTATAATAATTGGTATAAAGAGCCTATCAGTGTGTGATCAAGTGGACATAAGAGGTCAATAGTGACATCTTGCAAGGGCCTGCAATGTGGACTCCGGCAAAGGTCCATCATCGGATATGCCCTGGGTAAGTCGTCATGTAATGCCCCATTGTTTCCGTATAGGATTACAGGGATCCTGACGATATCTAGCACCACTGACCGGGCCGTCGACGGCCCTGGGATGCCAATTAGCCATTGGACCTCCCCCGGCGTATTTACGCCCAACAATCCCGACATGAACTTCTACCAGGCGTCATATGTGGCCGTCATCGCCTCCAACCGTTTTGGCGGTCTCCCTGAATCGTTTACAATAATGTGTTGGTTCGATTGCATTACCATGTCAACAGTAGGAGGAACTTAACTGGATCAGTGCAATCTTGGGTTCCGTGAGCGCTCGGTATGACAGGATGACGTGGCCTCGCCGTAGCACTAACGAAAGATGACCTCTCGAGTTCCTACTCTGGATGCATTCAGCTACTCTTGACGCAGGGCCTCAGAAGAATAACCTGACGCTACGTCCAGACACACCCGTGATCGTGTGGAACTAGAAATGTTATGAATAAACTTACCTCCCTATTATTACGAATGCACCGGAGAAGCTCGGTTCACGATGAACCCATACGCTATTCGCGCTTTCTGCAAAAGGACGCTCGGATAAAGGCGCATTTAATTCCGGGAGACGCAGTGACTTAAAAAATAATTATAGGGGATGTGATCGAAATACCGGCATTATTTTTTGTGCAGTCCCGTCTTGGATGGGGAACAGGTGAAAGCACGCAAGGCAGCCCGGCGTCTGGGGCTTATAGTTTCAAGGTGCGGGATTGAACGAACCCAACGGCCGTACTACGTAGCATGGAATTGCGAACACGTTGGGACTACGTCACCCGAATAAAGACGTACACGCTATTTCACACAAACTGCCAACCTCCCATTGCCAGTGTGGGGAACATAGAACCGGCACGCCTCCCACTTGTCTAATACGTGTGTCCGCGGTCCCTATATCATAATGCAGCGGCCGTTTAGCCAGTGCCATCGTGGAGGATCTTTGCGATAGATACAGCATAATTAGCCTGCGTTGAAGAACAGGTTCCGATCAAATGCGCTGTCGCAGTATATCCATTACTTGAGCTTGTGGTGACTTCCACTGTACGTGAGTATCTGACTCAGTTTCAGTGGTAAACCGACCACCCCTCCAGAGCCAGCTTTGATGTCCTGGTCAGAGGCCTGTCACAGACTGCTGACCGAGCGGCATCAACGAAAGGAGTGTGTGGGCGGATAACTTGACACTTGGACGTTGTAATTATTAAGCCCTATAGACTAGCCTAAAGTGCACCAGGGTGCGTAGCCGCGCCCTGAGAATTTCAAATACCATGGGCGACCTCCCGCTGACGCTAGAATATAGCAGTATTAACCGAAGAACCGTTGATGCCGTTATTAACGCGTCCACCTCGCCATCGCAGGCGCCCGTACACACTACAGTTTCCGTGAAACAACGTGGCGCTAAGAAGCTCAAGAAGAAACAGTTGGGATGCCTCTTCAGCTCCCTTAAGGCCCTCTGGTGATAACGCGTGAAGAATAAGTCCTTTGGGAAGCTGGGGCGCCAATCAGACTCAGGACGTCCGCAATTCGGTGAATCCCTGGTACGGGCTATGGCCGCGTAGATGCCTTAGAGGCATAGACCTAAGGTGCGGTTCTTCTGCATATCTAAAGTTAGTTCAGAAATCGCCGGTCCGCGGCCGAGTGCAGAGTCCCATAAATGTCCGGAGTTACATTCCAGCTCTTCAATCACGTGAGCCGGGACACTACCTACGGTAGTATCGACTACTCATATGTTCCATCCTGAAAGATTAGATGTGTTTGATAACATATAGGTATTGTCAGCTCTTTTGCAGGGTCAGCAAGTAGTACTATCGTTGCATCGACAACGATATCTGGAACCGTAATTTCTCCACGGGCGATCGGTGGTAGAGTAGAAATGGGTTAAAACCAAGATACAAGGCCTATAGTAGAAAGTCCTTGCTCGACTTCTAATGTCGCGGTGTGTTGAGCGAATCTGTGAGCGGGCTTATCCTCCTGAGTCCCCTTAGTGGGTAGCCTCAGGCACACGCTTTTATTAACCCCTTGACGCATAGACGCCAGAGTGTGATGCGGGGATGTGCGTGTCCTTAACCTCTTCAATGTTGAGAAATCGCAATTCGGAATACGCGCCTACTATTTCGGGCACCTTTTGGAATCCCGATTTACGACTTCCTCTTCGGAGGTACCATCCCCTTAGTACCGATAAAAAGCGTTGTTTTGACTGGTCCAGATTTCCCGTTGCGGATCTCTTTCGATATATGAGTTATTCCGGGACCGGCATGGAAGATGCAATTATTGGCGCTGGCAGTGATAAATACAGTTCTCCAATTTATTCAGTTTTACACACTACCCTCGAGTGGCTGGGACGTTCGCGGCAGAAAACATGAAAGGAAGAGACATACGCGTCTCGACGATTTTTTTTAACGTGCATGAGCAGTCGTCAGTCGGGTGGGGGGGGTATCGGGGAGAAATTGGAATAGTTGGTGAACGAACGAGCAAGCGTATGGGTCTCGAGTATAAATACGAGTTCTTCATGGTCATGATCTGGCAGTGATCGTACGATTTTTGCCCATAGATACAGTGCGGCGCGGTCACCGCTAATTTCGCTGGCTGCCAACCCAACTTACCTCCTGTGGCGAAGCACGTAAGCCACCCTAACCATTGCGCCAATCTCTTTAGTAATTTAGGGACCTGATGGGCAAAACTGGAAATGTATCTTTCAAACAAGGATGGCAAAGTCAAAAGGCGTGCTCGGGGCAACATTTTCATAGGGTTCAGTATCCACCACCGCTTGATTGATTTGAGGACCCCCACTCAGCTCCACCACGGCCAACATCTGATATTTCCAGCCGGCCGTATTCACGACGTTTCTTTCAGACCGTGAGGACATCATTTCCGTGAGGTAACGTCAACACGATTGGAGTTCTCTAACTAACGTCAGCTCGGAGGTGGTATAAAGTAAGAGCCTGAGGCCGTAGGCTGTGCTTCAACCGCGCACAGGAGGGCCCTAGTTAAATGGCCCGTTCCAAGCTATCGAAATCCTCCCGACTCGCATGTTCTGCCCTTGGATCCCTACCGGGACGACAGAGCCCCCCGACGCTACCGATTGTGAGAAGTGCTACGGGAGATGATCCGGTTAAGGCCAGGACACTCGGGCAATTGACATTTGGTCTAGCACGCTCCGAGGTTATTGCCTCAGAGCGTGTAATGACCAAGCAGATAACGAACAATAAATCGTGGAAGTTATAATGGACGAATGGCAAACGCCGACTGTGCGTAAGTAACCACCCCCACTGCTCATTCTGAGAGTGACTCAAAGGTAGATAGGATGAACTCTAGCCACGGCAGAACTAACTAGACTGCTAGGCCAGTGGCGGTTCTCCCGCCTTGATTGAGACCAGGGGGTGGTTTGATTGGAAGTCGTCCACCACCGAACCCGAAGCGGAAGATGATGTACCAGCGGTGGACTAGACGCCCTGGGAATTTTATTATCATGAATTCGGTAGATGACTAGCCAATCTCATAATAACGAAATCTTGGTAATTGGGTTATGCCTTATGCCGAGATCACGATTAGATGCGATAACGATCACCCATGGGGACTTAAACCAAACTGCCCTCGACCATAAGACATACCGACGTTGGAGTCGAACTTTCCTGGGAGGGTAAGCAGACGTCTTAGTAGTTGGATACGACGGTCTGCCCGTTATCACTGGATAAATTTAGGATCTGGTCTCATTTCTACTGCGGAGAGGCATAGTTCTGAAGCCCCAAAAGCCTGCCTCAATGAAGAACAGTAGGTCCGCTGTCGTGCAGTCTCAGAAAGAGGAACACGGGGGGTCTCTACAAGCTTGACTCAGCAGGCCTATTCTCCAAACAGAAGGGTAGTACGCATGCGCCTAAACCCTCATCTAGCTCTCACGCTCGGCTTGTTCAGGACGCATGATCTTCCAGTTTAACGCCGACTGCAACGGGAGCGACAGATTGGTCGCTACCCGAAGTTGAGTGAATCTCAATACGTCGTGGGTAACCCCTTAGTCAATGTAACAGGACTCAGATGGCCCGGTAGCCTGGAGGATGTTGTTCGGGTCGGCTAACGACGCCCGAAATCTTGATTAAAATCCAATCGATACACGTTAGAAGCCCAACCGCGAAGCTACATTTTGGAGGTGGCGGGGTGTATGGCCAAGTTGTGTATCAAGAACATAAGTGCTATTAAAGTGCGGGGTTATACCTAGCACGCTTCACACCGCAGTAATATTAGGCAGCGGAGACGATCAGCGATGCGCCGGAAAATCGATAGGCCCTAACCGGCAGCCATTAGGAGAAGGGCCCGTCTCAGTACCGGTCCAAACCACAGCCTCATCTCTTCCTACAGTAAGGGAAGAATCCGGGGGGCTGGCCCAGATAGCCCTGCTCGTGCAGAGAAGTTGACTCCTGCATTTCATTTTACCTGGTGGGGTTTCAATAGAGACGCACGAGGCGGTCATACAGTCAATACAGAACTTAACAAAGGAGATTGAGACGGTGAGGGGTGAGGTTCTAGTGGGGGAATGCCCGAGAGTAAAGAGCTGGCACCTCCGGGTGTTATTGTCAAGCTGTACTCGCATTTTTGCGGATCGGGATCTCAATAGGTACGGCCAGTGAGAATGATCAGAAAGCCTGAAGAGGACGTCCAAACTCAACCCTCTACTTGCTTACAAAAGATCCTTATGGCCGAGATAAGCTGCCTACGCATCATTGTACGCGCGTCAAATTACCAGATCCCGGGGAAACACACGAAGGTTAGATCCTGACCATATCGCCCGAAGGATGTACTCTACGACCCCTGCCACTTTCCGATCCTGCATGAGGACCGTGGATGGAAGTCCACGGAAGTAGAGCATAGCCCCCGCCTGTGCGCATAATCCGCCACTCATCATCGTGGATGATAACTAGTTGCCTACAAGCTTTACCGCTCTGGGGGTTGTCGACTTAAAAGACATACGGCCATACCAAGATCTGCCACAAAGAGGAGTAGAAATAAAATCCTCTAATACGGTTACGTTCCTATTTTCCGGACAATTTAATGCAATCCCCCGGTAGATTCGCCCTAAAGTGCGTTACATGGCTGCTAAATTTAGTCTCGGAGTTTGCCTCGACGTATTACACCGTTAATCTTCCCGTATGAAGCTATACATGTTCCTAGTTGAATATACCACCTACCTTTTTACTTCTTCGAGTCGGCCCACGGACGCTGGTCTGGTATTCTTTAGCTAAAAGCATAGGTAGGCAATCGTTACCAATCCCGTTCGCGTGTGCTTCCTGGGCATATCTCGCACATCCGTAACTCCTTACACCGAGACTTGTTCTAATTCTCTACTAGCGTCGGTTCCATAACAGTATCGACAATTTTGGCGGGTTCGCAGCGACCGACCCATCCGACTCGCCGCCCCTGATGCATGTCCCGATCCTTCGGCGACTCATTCTTCCGTATCTCGACGACGCATAAGACCAATGATCTATGTCGAACCCCTTTTTCGTGGGCGACTCCACAGCGCGAGGTGGGTTTTGACTATCGCTGCCTTCTCGTTCTAAAGGTCCACTAAGTGCGGTGGATTGAATGCGTATTGTGTAACCCGTGGTATGGTGGGTCGTGTGGTACCAAGGTCCAGGTTTACAATCTCAGAGAGCCCGGCTTTAATTCAGCTCAAGAAATAGAAAATTTTAGAGGCCATTAATTAACCCAGTCATACGCGGACGGAGGCGGTCGATCTGGGGTAGATTCCTAGAAAGTTGGCCCTGTCCACCTAATCTCTTTGCTGTCACATGTGCGTGTTTCCCGTCAATACGTTAATGTTCCATTACGAGTACTCTAATAACCGGTTGCTACAACAGCCACCATTCCACGTGACCTGTTAGTGTACTATTTGGCAACAGGAGTCGGACCATTTTCATGTAGAAAGGTTTGTTGCCCCATCGACCTGCTCTATCCCCAGGAAGGGCGTAAGCCCCTGGCACTCGTTTGCCCGCCGGGCAGAGAAGCAATAGCAAGTCAGAGCAACTGGCAAGTAAACTTCAGGAGATCTCCACTGTCTGTAAGGGCTGGACCCCACTTGGCCGATAGCATTCACACGTGTTAACGCGTGACATCACCCAGACCAAAACAACGTGGTTAGTGAGTATGCATTAGGTATCTTTTTGCCACGCACAGAAAATGAATAATCCAAAGGTTACTTTAGGTACTATCCGGGTAGATGATATCTCTTCAGCTTTACCTGTCGCATCAACTTTGTTGTATAGGGAGGAGCCGTCTCGAGGATCAGTTGCCGAGCATTTACGCAATGCACTGGCTAAAATCACTGTGAGATAGACCCTACGGTAGCTATGCAGCAGCATTTATGAAAAGAATAATACATGGGGGGTCGTAAACATGCGAGGTCCACGAGGCCAGTTACCATGGTCGAGGCGGTAAGCTTGGCCTTATAAATTCCGACAAACGCAGAAACTCCAGTGTTCAGGCCCTACCGCGCTCCGGGCGACCAAAACGCGCAAGATTTAGGAAGTTTGGACAACAGATGCCGAGCTATCCATCAGCTCGTGTATGTAGGAGGACTTACGATTTGAGGCCCTCCTATCATACCTTGACGTTGAAAGTGCACATGCGCCCCACACTATAACACATGAGGCTTAATCACAAATTACTCGGTGTGGCCTACTTGGGCGGGAATAGGTACTTGGTGCAGGGCAACCGCTATCTGTGGGGACACGTGGCAGTTGATCGATATCGGAACTCACGCGATGTCTCGGTCAACATTCATAATTGGGGGAGGTACACACCGCCTTCCTCTAAGGGAGATGAGTCGCCGAATATTCCCTATCATCACATATATCGCAGGGTAATTGCATCGTGCATCCGGTCCGGCGTCGTGCGTGCCCCTGTGCGGCCAAATGTATAATACATATCCAGGACTCAAGTCAGGCGTCGGGGACGCTACCGGGGTCGTCCAAGCAGGGTTGACGGGTACCGTTGAATTCGACAGCCAAAGTTTGTAATCCAATCCCCCACGGGGGCAATATGTTGTAGACGCAGTGGCACTGGGGCCGCAACAGCATCATGTTTCCCTGATGCGTGTAGCAGGGAGGGGTTGAAAGAAGATGACCCGAGTCCGTTCCGCCAGCCTTACGCGCCCCGACGCAGAGAGGGTGCTAACCTCAACACGCTTAACAAAGTGCGACTGCTCTACTGTTCAATACGACAGCAAACACTGCCATACTCAGGGTTACTGTAGAAGAGAGTAAGAGGTCGTAAGAACTAAAATTGGTTCGCTTAGATTTCCTACTTCCCGTGTTTCGTGACCAACCCATCAGGACCGAATAAGACTTATTTGGATACGCTTGAGCCACCTCTTGGTTAGTGTGAGAGCGACTGTTGGTGAATTATTATTCGGTGTACTAGCTCAAACCCCTAACTGAGTGGGCAATGACCCCGTATAATGATAATAAACTTATAAATATCCCGAGGGGGTAGAAGATCGGCACTGAAGTGCACGCACCGCGATTAGTTTTTCGTCTTGTCGTCACGCTACTAACAGGCAGAATTTGGCATTTTAACCCATCTTCGTACACCTTCGACTGGGATTTGCGTTCTCATGCCCCAAGCGGCTGCTGTACAAACCATTGGCTCCCTGAAGTTGGGAGTCAGGGGTAGAGACGCCACAGCTTTAGCTTCATGCAACGGGTGTATCCTGGGGCAAGCGGGGTACTGTACCAGCTGGTGGTTATACAGTCCAGTGACGTTGTATTCGTGAGGGATTCACGGGTAGTATATAGCGCACCCATGCGGCAAACTTGGTACTTACACAGATATGGCACTGGCGAGGAAGTCATAGCTGCCGCTCCATAAATAAGCTGTCCTCCCCTTGCCCGTGGTAGTAATGCCGCTACTAATAATTGTTTCTAATACTTCAGACGACATGACACAGTCTACATGTCTCTCGGGCTAGGCTAGGATAGCGTAATGGAAGCTGTGGACAAGCAGACATTCTAGGTTACTGGCGCTCTAGTGTAAAGGTCCACGCGGTGACTTAGCCTTCGTGACCGATATGGAAATTGACCCTTCGCACTGTTGTTGTTAGCTGTCTGGTCGAGGAACGGGGCGCGCAGAGTGTTACCAATCTACATTTCGTATCTTGTCGAACGAGTTCTTTAGTCTGAGCTCGGGAGACTCAAGCCGTTCTCCTTCGTCCTCCCTCCGATGAGCTGGCCGTGCGTAAGACGCCACGCATCATTTCGACCCTAAGAGAGCGCGGATTGGGGCTGTCGGGTCAGTCTGCAATTCCTGGGACAGATCCTAGGGCCAGGTAGCGGCACCGCATAGGGGTTCTCAGTCCCCTTACATCCTAGAATTATGCTTCCTATTAAACGGGCGCTAGTGGGACGACGCATCATTTGCGCAGACGTTCGAAAGAGTGTGCATAAGTTGTTAAATCGACTGTCTTTCTGGATCTCGTTACGATTACGGGCCGCATCCAGCAAAGGAGCGTGCGTTGTCGAATGCACTTTTCTTGATTAGTCCGAAAAACTCGTCCCTATCGATCCACCATGTTATCGTTCCGGGTGTCTACATTAGGAGTACAGGTGTCGCAGGGATTACATCAAACGTTTGTTGCGTAACGAGCTGGGTCTTATAGTCCGGGGCTTTCCCCGGGGCTGGGTGTGCCATTGATCTATTCGTATCATCTTAGATTCCTTCTGTGCTTCTACGGGTAACGGGTCCTCACGTGAAAGGCAGTTGGCAGCAAGTGCCACCTAACACCGGATTTGGGGTTCTATTTGTATTCCGTTCCTTGTAAAGTAGGCCTAAACCATTAGTCAACAAACTTGATGGAGAGTCCTCTACCGCAAACAGGTTCGGAGCAGCCACCCAAGTTCTCGCCCTTTGGCAATCTGGTATGGAGGTAACCGGTGGGAATCTTTAGGTAGAACAGCCCACTGAGCCTGATGAGGCCAGGGCATAGCTCGAGAAACCGACCCTCCCACGGGTGACTTTGCGATATCTTCTTCTCTGTCCCGGGACTAGGTGACAAATTCCTAGGCTACCCAATCGAAGGATGACTACGGACCTCATCATTCATTTGTTTGGAAAGGGGCGGGCGCTTGTGGTTGCTCTACCTACAGGGATTAGGCGGGCGGAGGTGCACGCGTGCCCGAATTTCCTATGGCTTCGGCGGATGGGAGCTCAGTTAGTTCTTCAGCCAAGTGGGGACACTTCGACAAAATCCGTTCATGTTTATATCCCAGGGACTACCTCCGAACTTATATCAGGACAGTCTTCGTCTGTAACTGTAGGTGACCGTTCGCCATACTGTATCTAAGGCCTTACTTAGTGCGCTCATAGGCTAATTATTATCTCGGCTAGGGTGACACCAGAATGTAACGACTACGGCTACTATACGATAGAGGAAGGGGCTGGATTATACCTAGGCGTAGATAAGTACTTTAAATCAGCGCACACCCTGGTATCCTGGGGCTGGGCCACCGTGCCACTCGAGCCTGGGGGGACGGTTAGGCGACGTGTTATCGGGGACCGACTCGCCTTACTGACATTCAGTGACTGATTGCGTGGCTTACAGGCGTTGAGTACCTGCTCACCCTAACAGAGTACTCTCCTATTTCCACGATTGGTATTGCAGAAGCTTGAGGCCTTATGGTGAGATATGAGAGGCACGTGCCCTTGGGTCATCCTGGGCTGCCACTAGACCAGCTATAGACCGTTGCGTGTTATGGGCCATCGGTTCCTCTGCTTCTAGTTAAACCAAAGATGAAGTAGTTCCATGTGGTACCGTCATAGTCTATGAGTATTCCGGGTGAATACGTGATGTATAAGGCTCAGAGCTGGGAACCTCCCTTTACACTAATGGCGACGGCCATGAAGTAATTGCGGCAAGTTGCCAAGCGATTGAAGTAAGTTATCGGCGTGCTGGCAGCCGCACCGCTTGAAAACCATCACTAGACCAGTGCACATCTACATGATGGTCGTTCGTGTTCAGGCTGATCTGTCCACGCCGTGACTTTCCGTTTCATAAGCATAGCGTTCAATATATCTTTTTCAAACTAGGGCCACGACCTGGGGTTGGGATAGAAGCTGCTAGATCACGGCGCTGGCCGCTTGCCTAATCCGGCTTTCGGCTAACTAGGGAACGTATTACGTTGTAAAAGAGGGCCCTCGTTGGAGGCAATCTACTCTGTAAAATGGTCACCCGGGAATGGGGGGTACCCAGGGACTATACGGGGACTATACTACTAGGGCGAAATCTGGAAGCACTCCCGAAGCCCTGGCTAATGAGGGATCAGCCCGACAGACCACATTCGCTTAATCCGCGAGACAAACTGAGGTCTGCGTCCCTCCTCAAAACATTGTCTAGGCCGCTACGGGCTTCGGCTCGCAGGGAGCTACCTAGGATCCAGGACTTCTAAGCCAAGTCCTCTGGAATATTCTAGAACGCCTTTAACCATTCCTCTGCAAGCGTGTGGTTACTGACTCTATGCACTCGAACAGATGTGCTGAGCGTAAACTATCTTAAGCTTTGTGCGGGTACAAAAATAGGAGTAGCATGACCGTTTCCACACACGAAAGGGTACTGCAAGATACCAGAGAACCAAGGACTGAGCCATGCACTGGGCTAAGTCTCCCATACGACCTACTCCAGGCCACACTGCAAGTCAGTTCAAGGAGTGACTTGGCAGATAAGGCCTAAGACTGCGCTTTATGGAAAGTGACACACGCACGATCCTATAACTGTGTTCAGACTATTCATCGGTAGTTAAACACGACTTAAGTAAGTCGCGGCTGAAGATGCAGCTCAACCTGTATTGTTCTTCGGTCGGACGGCTCCAGGCTCAGCGGTCGATGGAAGCATTTGCGTAGCGCGATTAACTGATCCTTACAATAACACTGGACTCGGTGTTGATTTACACCAGTGTTTACCGCTGCATTTTGTTTGAGGCTCTAGCAATACTCCGGAATGCAATGGGCGCAGTGAACAATCGGTAGTCTATCTAGGCGGTACATGCATCTCGTTGCATACCTCTATAAGAGCTGTCAATCCATACTCGTTTTGAGTACCAGTTGATCGGGCGGATCGGGTGCTCACTATACTCATTAAAACCACTTCAGCATCCCAGGGATCCCGTATCACGCCATGGTCATGTCCGCCTCCTCCCCGGTCTTCACATGTATACACTGTTCAGAACAACCATTGTTGCGTGTTAATGCAATCTCTTGGCGTATCCCAGTGTCTACGGTGGTCTTCCAATCTTCCAATTCAGTATTGCCTCGATTGAGAGTATCAGGCGTATCTATGGAGTCTTCCTCGCTTAGCCGGCTTAAGCCTATCCATGAATATTTGCGGAGGAGCTGGCATCAAAATAACAGGAAGTTGCCTTGCCTGCTTACGTCTTCACCTCGAGGTGGTTTATCGAACCACCTGCCATAAGAGTTGGTACGACCATCGATATTTGCAGGGTTGAACGCCGCTTGTAAGCAATACTGAACTACGAAAAAGAAATCGGACGCTTTTCTGCGCATTCATTCTCGTATGTCCACCAGCGCTCGGATGCCCATCGCAATGAGTTTGAAATATCATCCTAATACAACCTGTTATCTAATGAACGCCGCGGTTTTTGGAAATCGGTTGCAGAATGCCCTCGCATTGGTTCCTCGTGACCCCCACTTAGGTCTGCGGTGGTAGAAAGGACAGATTGCTTTCTGTCAACGTCCGCCAACACCTCCGCCAAGCTGCTATCAACCACCTAACCTCTAAAATACGTCAGTTGGGTGTTTGTGTGGAATGCTTCTTGACGACGAACTGCGCCCGGACTCGATTCTCGGGACTCAATATTGCCGAACCTCTACAAACTTCCAGAACCTTTCTCGACTAGACTACCCCCCGAGCTCGCGCATATGATGTCAAGAGCCCGGAGGGTGCCAGAGGCTCGCACTGGCGATCAGTCGATCGCCCGTCGGCGAATACTGTTGGCGAAACGTGATATTTTAAAGCGTGGGAGTATTACTCAGGGGGCGGCCAAAGTGGAATTAAGAACAAAGGGGCATCTGTACACTCCCTTATGAAGACACCGAAACAACGCGTTTCCCGTTTTACCGCCTCCGTATTAACTTTGTCCACCACCCTACATAGTACAATCCTCATATTTGAAAGGAAGGGTTCAGTTTGCGTACTGGGTCACTGGTTACATATGTAAGGGCTTTTCAACAGTCTTTCAAAATCTGGCTTAGAGCTCTTCTATTGTTGTTTATGAACACCGCAAATGTGAAGGAGTGCGATGACGGGTAGCACAACTCCGATTAGGGACACGAGGCATTTGTGAATCGGCGGAAGATGATGACGCATCGAGCGGTGTGACTAGACGGGGAAACCAGGAACGGTAACATTGTATGGGCGAGAGAGAAAGACTTCTGGTCGTGTCAGGAAGGGACGACCTCTCAATACGACCGTTGCAGAGCCCCACACTCGGGACCCCCATTGAAAGCCGACACGTGTCGGGCCCCTACGTTAATGTGGAAAGACGGCCAACCACGTTCTGCGTAGAAGGAGGTATGCAATCCTCGAGGTCAGTACACGTGAGGGAAAGCTTATACCCCCATGCGGTTTAAGGGGGGCCTTCGCTGCGGACAAGACCGGTCCCGGACACAGAGTACCGTTCCAAAGAGGAGAGATCTCATAAAAAGTTGGTCGTCCTTCCCCTCCGCCTTTATGGTAAGTCCTGCAGGAGACTGAATTGTAATAGCTCAACATATATCGCCGTACCTCGCTGTTATGCATAGACTCTACGCTTCCATCATAAAGAGGGGCGGACAAAGACTCCTTTAGGCTGGCTGGTTGCTTTCAACAGAATCTGGCTTGTTAGATAATCGTATAAGCAGTTTGTGACGACCGGATGTTCGACATAACATCTCTAGCAACGCCTCCGGCATTTTAAAATGAGTCAGCGTCAAAATCCGAAGTGATCTTTTGTTATGAAGCCAGTTGTCATCCTCGGTGCGACAGGTCCAACCGAGGTCAAGCTCAGCCGGATTATAACAAGTAAGGTACACGGTGAGTCTGATTAAGAAGACGCGACTAATACCTCTGGAACTAATGTTCGAGGGGAGCTGACGTGCTGCCTAGTAGCTGCTTTGGATGCGTGACTCTGTTATCTACTCTCCCGCCTTGATTTTACTCGGCTGAAATAAGTTATCGCCTGTTAAAGTTAGATTATGGCAACCGATGTACCAGCCTTCCACGGACTGTATCTCGAAGTGGGAATCAGGCATTACGCATCTTACATCGGTAGTCCGAGAATCCACTTGAAACCCAGTAGCTTGTACTCAATCTCCAGCTCTAGCTTAAGACTGCGTGTGGCGAACTGAACCTTTATTGATTAAAATTAGAAGCGCGTCATAATCCGCATATCTCGTAACGGGGCGCAGTCTGTCAATTCGGGGCAAGCTGTGGAATGGCACCTCGATCGGGAATTGAAGGTTCATGAAAAAGGAGCGTTAAAATATGGACGACGTTGTCGATATTGTCCTCGTCCCGGAGTCCTCGGATTCCAAGTGGGTCGCCGCAGCCGGGCCGGAAGGCTGGTATAGAAGCTAAACGACGGATATTTTTTATTACAGAACAGATCTCTCCACCGACGAGTTACTGAACGTTGTAGTGCAGCAAAAACGATTCAACGACGCTGTGCCAGAGAGCATAAGGGTCGCGTTTACGAGGCGGGCCAATAAGCGGCGTTTTGGCGTCTTCAGGGTGTGCCAACTATTATTGTGCAGAAGTTCGACATTAAGAGCAACGGATACATTGTTAATTATGAATATGGTTTTTAACCCGACCTGACTGGCTGAATCTATGGTCTCCAGATATTGGGACACTCATCAAATTTTCTAGCAGAAGCGTCTAATGTTTTCGTGTCACACGGAGTGTAGACACTGCCGGGTGCCACTGCTGTTGAAGGCGCTAGTGGCAATGCTCATCAAGTGAAGTGACCAGGAAGGACTCATGGTCTGGGCGAATGTTCGAATGTTTTCGTCGTTAATATCACTACCTCAGCGCATGACGACAAGGTAAGCGGAGGTTCTAATCGAAGAGCGAGACGATGGGGAGGCCAAGCTGCGCAATACGAACCGTGCGTGGGATAGGCGAGGAGCCAGTGGACAGCGCTAAGTCCCTATTATACAGGCGCCTCCACCGTATTGTTCCTTTTACCTCAGACTTAGCACGCTGCCAGGTGAATCTGGTAGGAGGCCAATTCCTTTCCCGCGGATGCTGGTGCGGCAGACTTCTTAACCCGATTCTCCAATACTGGATTGTTTGATCGTATCTCTGTCCAGTGTACCTATTAACCTTCAAGTGTACACCCTCGTGACTGGGGTCGGAGGTGCTCATGTGCCAGGACTAACTCCGTTAATGAGGCTGGGAATTCCCTCCGATGACCCCCAGTTGTGGAGGACCCGGTTAACGTTCTTGTGACAACGCGTCTGGGCTCGGGGCTTGCACGCGATGGGAATTCCATTTCCGACGTTCAGGGGAACTAAGCCAGGCCAAGTGCGTGCATTACCTCACAACTACGCAATGTCATCGCGAATTGATCGTCGAGTATCAGTATCGTTGTAACGCCCTGGTGGACTTGACACGTACCGCAGCAAGGGGCAGTAGAGTCAGAATCTAAACACGAGGGCCTTGTAATTTTATAGCGATTCAACGTTGTGCCCCACTCGATCGTTTCCGTCGGGCTCGCATATAGCCTGCACTTCCTCGACCGGGACCCAGATCTTTCTGGACGACGGGCGGCTGGCGAGGTCTATAATTGCCGCGATAGAACGGAGATTGAAGCGGCGGAGCCGCCGTCTGGTGGTAGAAATTCATGTCCCAGCTCCCCCTACGGTTGTTAAGCATATGTGGCCGACGCAGACTTAGTTATAAGCTTGTGACAGTACAGTTAACGCAGCGACCGGTACATGAAAAACACGTTGTAGAACAATCACATTCGGATCGGGTGATCCAAGACTACTGGTAGTCATGAGCTATTCATTCCCCAGTAGGCGCCTTGCTACCTTAGGTAATGGTCAGGATACCAATCAGATCGTATCTACAGAAAACCTATTACCCTGAACTCTCCCGACTCTTCGCTTATGCAAGGGGAACCGTCTCTGAATGTCGATGCCGAGACAACCCTCGCAGTCACGCCGAGAGGTATCGAGATTCTTATTTAACCTCCCAAGATGGGCAACCCGAGTACTATAGTTCAACTCCCTGAATCGCACCTGGTACTCCGTGTTTACACTCAGCAGTTACTGCGCTCAGCATTGTATGGGTAGGCAAACTTGTGATAGAAACTACCTACCTTAAACCGTGTAGTTACCATAGTGCTCGTCGAAACTTTCTAGAATCGACGGGACTGAACAATACTCTTAAGTTTTCCGATGGGTGGGATGTGTCCGGGCCGATCCCGGTAGCTCTCGGAGAGTCCCTTGTGTCTTGAAGTACACCATCGTAGTGGCCTAGCTCGAACAGCCATTTTGAAGCAGCATGACAGGTAGGCACTCACCATGGGGCCAACACTAACTTTATTTGATGCTCAGCCCAACGTTGTGATGGCTCCTCCGGGAAACGGAGGGTAACTAGTTTCCTTCCCCGCTTGGGGAATGTCTAAGCTACGCATGCTCTGTCTGGGAGTCTGATAAACCAAGCAACGCCATGCTCATGTCGTCTAAAAGAGAACCGATATTAGTTCTCAGCAGTCCCAGCGGCTGTTCGCGGACTTCGCGCGATTCAAATACGTGCCACCTTCATCCGAAAAAGACCGCGCTATATTCTTCATATAGCGCTAACCCCGCACCTATGGAATGTACTCCTCGAAGCTTCGCATCATGTGCGAGCCGTTTTATGAGGACACCATGAGAGTTAGAAAGTAGAAGAGATGTGTTGCATCCACGAGAACTGGACACCTGGCGTCAAAACACCCTACCTATCCGACCTTCTTTGCGTCGGGGATATAAGAGCCCCACGCCGCTTACCCGTATAAAGTCAGTACGTCACATCCCAGTCGAGTCGTCAATCTTAATCACAAAACAAGGGTCCTTTTCTCGCTCCAGCGGTGCACCACCCTCTTCTCCTCTCCCCTTTCTCATTTGTTTGTATAACTGACTAGACTACCCGAAGGGGGATGCCATTAGTCGACTAAGTTCAGTCCCGCCTAGGCTTAGCCCTGGCCTTGTATGGTCACGAGGCTATCGCAGTTACACGTGCTAGATGAACCCGATTTTCCCTGAGATATCTGTAGTATACTAGTGAAGTAGGAGCTGGCCACGCGTAGCGTACGGTGCGCCTGCTAGACAAAAGGTTGCTAGGTCAACTTCTTTAGGCGATTGATCTATAATGTCCATACATAAATTACCTCCAGTGTGGGAGGAACACACCCGTTCGACAGGCACAACTAAATAATGATCTCGGTAGGCCCCTTGAGCCCTCTCCTTCTAAGTCTAAGCGTAACCTAGAATCAGACAGAGTTTTTCGACAGGGTGGTATCGGGACTAGTATCGACCCCGCGCGTATAAGTAAACGGGACAGTAAAATAGGGACAGTGGTCAGTGGTTCTGAAAAACGTGTAGTTTGTGAGCCTTCCTCCACATAAATTGCCATTCGCACTCACTTCTGTCTGCACCAGGCGTCAAGGAAAAAGACTATTCCCACCTCATGCATGGTGGATGATGTCACGCCGCCCAGCGCCTGGATAAGTCACACCAACCAGAAAGATCAGAACCTGTGCCTTGGACCGCTGCCATCTAGGAGTATTCCCCATTCGGCCTGCCGGACGGCCGCTGCCGTTCCGTCTTAGTGCCTTTAAATGACAGGCCGCATCCCGTCTCTAAGATGGCGGGCCTTGTGGTTTCGGACTGCCCACGCTGAGAGGTTTCAAGAGGTGTCGCGCTCTCTAGAATCGGCCCAAGCATCGGGAGAGAATCAACGCCGCCTGTTCGGGACTCTGTGGCAATGCAAGTACTCAGTTGTTATTGTGCGAGCCGCGTCGCTCATGCACTTGTTCCACACCGTTTCCTAGTTCCTTCATGTTGAGAGTCAGCGAGTATAAATGATTCAGATTTGGCTGTTACTCCGACTCGGTGCTAACCATTACCATACTTTCTGCAAAACCCAAGCACAGGAGAAGCTCGGACTTTGCCCCGGATACATCTTTTGCCTTTCGCGATTCCCTTCGACACCAGATATGCACTTCCAGTCTAACGTAGATTGCGTTCTAGCCCTCGAAGTGAGCCAGCATAGATTCGTCAGTTGTCATAAAGCATTGTCACCTATAATTATCAACTGTTAGGGGGATACTCATCCGGGGTTGGTCTACTCTTCTAATAAGGCGTTGAGCCCGCAACTGTCCGTGACCTGTGCAGTTCACATAATCTGCAGAGTACTTGTTACAAGCCCTCCTAGTTTGCAAGCGCACGACTAACCTGTAGGATCAAAGCAGTAAGTAGTGGCGACATTACATGATCTCACCGACGTGGTGTGACATTGGGTAATGTCGTGTCCGTCAACTCGTCCCACCCAGGGCCTGAGGCCGACGTTTATTGACCAAAATAGCCTGGGGCCTAATCCAGTACGATTAGGTACTGCCCCATCGTGTAGTAATACCTACGACTAGGCTCCGCACCGCAGCTCACTCCCTTGCTTTTATAGAAATACATTGCACCTCTCGGACAGCTACGTAGAACCGGATTACTACGAACTCCAGTCCTAGTAAGGTGGTGACAATTGACCATGTATCGCCAGGTAGCCTGCTTCTTTTATTCGGCACGTCTGAAAGCGATTATTCTAGAGTCAAAT\n"
     ]
    }
   ],
   "source": [
    "from Bio import SeqIO\n",
    "\n",
    "def find_superstring(substrings, result = \"\"):\n",
    "    #checks one by one each sequence, looking for matches an adding them together in the result.\n",
    "\n",
    "    \n",
    "    if len(substrings) == 0:    #termination step, when all the substrings have been removed, the function will return the result\n",
    "        return result\n",
    "\n",
    "    \n",
    "    elif len(result) == 0:\n",
    "        result = substrings.pop(0)        #starting step, the first substring will become our starting sequence so we can build up on it\n",
    "        return find_superstring(substrings, result)\n",
    "\n",
    "    else:\n",
    "        for i in range(len(substrings)): #start iterating through all substrings\n",
    "            a = substrings[i]\n",
    "            l = len(a)\n",
    "\n",
    "            for p in range(int(l/2)):   #rosalind gives us a hint, the matching will at least be 50%\n",
    "                q = l - p               #so we start cutting the string in two, and trying both halfs for a match\n",
    "\n",
    "                if result.startswith(a[p:]): #if a[p:] matches, then we must add a[:p] since we dont want to repeat both times the same region\n",
    "                    substrings.pop(i)        # if the highest match possible is found, there is no need to keep analyzing the substring so we pop it\n",
    "                    return find_superstring(substrings, a[:p] + result)\n",
    "\n",
    "                if result.endswith(a[:q]): #same idea here just repeated\n",
    "                    substrings.pop(i) \n",
    "                    return find_superstring(substrings, result + a[q:])\n",
    "\n",
    "with open('rosalind_long.txt', 'r') as myfile:\n",
    "    sequences = []\n",
    "    for record in SeqIO.parse(myfile, \"fasta\"):\n",
    "        sequences.append(record.seq)\n",
    "\n",
    "print(find_superstring(sequences))"
   ]
  },
  {
   "attachments": {},
   "cell_type": "markdown",
   "metadata": {},
   "source": [
    "Problem\n",
    "A subsequence of a string is a collection of symbols contained in order (though not necessarily contiguously) in the string (e.g., ACG is a subsequence of TATGCTAAGATC). The indices of a subsequence are the positions in the string at which the symbols of the subsequence appear; thus, the indices of ACG in TATGCTAAGATC can be represented by (2, 5, 9).\n",
    "\n",
    "As a substring can have multiple locations, a subsequence can have multiple collections of indices, and the same index can be reused in more than one appearance of the subsequence; for example, ACG is a subsequence of AACCGGTT in 8 different ways.\n",
    "\n",
    "Given: Two DNA strings s and t (each of length at most 1 kbp) in FASTA format.\n",
    "\n",
    "Return: One collection of indices of s in which the symbols of t appear as a subsequence of s. If multiple solutions exist, you may return any one."
   ]
  },
  {
   "cell_type": "code",
   "execution_count": null,
   "metadata": {},
   "outputs": [],
   "source": [
    "from utilities import fasta_dict\n",
    "\n",
    "fasta = fasta_dict('rosalind_sseq.txt')\n",
    "\n",
    "seq = []\n",
    "\n",
    "for key in fasta.keys():\n",
    "    seq.append(fasta[key])\n",
    "\n",
    "s = seq[0]\n",
    "t = seq[1]\n",
    "res = []\n",
    "last = -1\n",
    "for i in t:\n",
    "    index = 0\n",
    "    while index < len(s):\n",
    "        if i == s[index] and index > last:\n",
    "            res.append(index+1)\n",
    "            last = index\n",
    "            index = len(s) + 1\n",
    "            \n",
    "        else:\n",
    "            index += 1\n",
    "final_res = ''\n",
    "for l in res:\n",
    "    final_res += (' ' + f'{str(l)}')\n",
    "print(final_res)"
   ]
  },
  {
   "attachments": {},
   "cell_type": "markdown",
   "metadata": {},
   "source": [
    "Certain Point Mutations are More Commonclick to collapse\n",
    "\n",
    "Figure 1. Illustration of transitions and transversions.\n",
    "Point mutations occurring in DNA can be divided into two types: transitions and transversions. A transition substitutes one purine for another (A↔G) or one pyrimidine for another (C↔T); that is, a transition does not change the structure of the nucleobase. Conversely, a transversion is the interchange of a purine for a pyrimidine base, or vice-versa. See Figure 1. Transitions and transversions can be defined analogously for RNA mutations.\n",
    "\n",
    "Because transversions require a more drastic change to the base's chemical structure, they are less common than transitions. Across the entire genome, the ratio of transitions to transversions is on average about 2. However, in coding regions, this ratio is typically higher (often exceeding 3) because a transition appearing in coding regions happens to be less likely to change the encoded amino acid, particularly when the substituted base is the third member of a codon (feel free to verify this fact using the DNA codon table). Such a substitution, in which the organism's protein makeup is unaffected, is known as a silent substitution.\n",
    "\n",
    "Because of its potential for identifying coding DNA, the ratio of transitions to transversions between two strands of DNA offers a quick and useful statistic for analyzing genomes.\n",
    "\n",
    "Problem\n",
    "For DNA strings s1 and s2 having the same length, their transition/transversion ratio R(s1,s2) is the ratio of the total number of transitions to the total number of transversions, where symbol substitutions are inferred from mismatched corresponding symbols as when calculating Hamming distance (see “Counting Point Mutations”).\n",
    "\n",
    "Given: Two DNA strings s1 and s2 of equal length (at most 1 kbp).\n",
    "\n",
    "Return: The transition/transversion ratio R(s1,s2)."
   ]
  },
  {
   "cell_type": "code",
   "execution_count": null,
   "metadata": {},
   "outputs": [],
   "source": [
    "from utilities import fasta_dict \n",
    "\n",
    "fasta = fasta_dict('rosalind_tran.txt')\n",
    "seq = []\n",
    "for key in fasta.keys():\n",
    "    seq.append(fasta[key])\n",
    "\n",
    "s1 = seq[0]\n",
    "s2 = seq[1]\n",
    "transversion = 0\n",
    "transition = 0\n",
    "purine = ['A','G']\n",
    "pyrimidine = ['C','T']\n",
    "for i in range(len(s1)):\n",
    "    indicator1 = None\n",
    "    indicator2 = None\n",
    "    if s1[i] in purine:\n",
    "        indicator1 = True\n",
    "    else:\n",
    "        indicator1 = False\n",
    "    if s2[i] in purine:\n",
    "        indicator2 = True\n",
    "    else:\n",
    "        indicator2 = False\n",
    "\n",
    "    if s1[i] != s2[i]:\n",
    "        if indicator1 != indicator2:\n",
    "            transversion += 1\n",
    "        else:\n",
    "            transition += 1\n",
    "result = transition/transversion\n",
    "print(round(result,11))"
   ]
  }
 ],
 "metadata": {
  "kernelspec": {
   "display_name": "Python 3.10.7 64-bit",
   "language": "python",
   "name": "python3"
  },
  "language_info": {
   "codemirror_mode": {
    "name": "ipython",
    "version": 3
   },
   "file_extension": ".py",
   "mimetype": "text/x-python",
   "name": "python",
   "nbconvert_exporter": "python",
   "pygments_lexer": "ipython3",
   "version": "3.10.7"
  },
  "orig_nbformat": 4,
  "vscode": {
   "interpreter": {
    "hash": "be3e3e6aee14e42620e5008e3e9fa23d1b764783a87a6f38e2445f887853eae7"
   }
  }
 },
 "nbformat": 4,
 "nbformat_minor": 2
}
